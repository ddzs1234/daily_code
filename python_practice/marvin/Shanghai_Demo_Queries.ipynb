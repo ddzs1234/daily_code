{
 "cells": [
  {
   "cell_type": "markdown",
   "metadata": {},
   "source": [
    "# Queries\n",
    "Marvin Queries are a tool designed to remotely query the MaNGA dataset in global and local galaxy properties, and retrieve only the results you want.  Let's learn the basics of how to construct a query and also test drive some of the more advanced features that are unique to the Marvin-tools version of querying."
   ]
  },
  {
   "cell_type": "code",
   "execution_count": 1,
   "metadata": {
    "collapsed": true
   },
   "outputs": [],
   "source": [
    "# Python 2/3 compatibility\n",
    "from __future__ import print_function, division, absolute_import\n",
    "# import matplolib just in case\n",
    "import matplotlib.pyplot as plt\n",
    "\n",
    "# this line tells the notebook to plot matplotlib static plots in the notebook itself\n",
    "%matplotlib inline\n",
    "\n",
    "# this line does the same thing but makes the plots interactive \n",
    "#%matplotlib notebook"
   ]
  },
  {
   "cell_type": "code",
   "execution_count": 2,
   "metadata": {},
   "outputs": [
    {
     "name": "stdout",
     "output_type": "stream",
     "text": [
      "INFO: No release version set. Setting default to MPL-5\n"
     ]
    },
    {
     "data": {
      "text/plain": [
       "'https://api.sdss.org/marvin2/'"
      ]
     },
     "execution_count": 2,
     "metadata": {},
     "output_type": "execute_result"
    }
   ],
   "source": [
    "# Import the config and set to remote.  Let's query MPL-5 data\n",
    "from marvin import config\n",
    "\n",
    "# by default the mode is set to 'auto', but let's set it explicitly to remote.\n",
    "config.mode = 'remote'\n",
    "\n",
    "# by default, Marvin uses the latest MPL but let's set it explicitly to MPL-5\n",
    "config.setRelease('MPL-5')\n",
    "\n",
    "# By default the API will query using the Utah server, at api.sdss.org/marvin2.  See the config.sasurl attribute.\n",
    "config.sasurl\n",
    "\n",
    "# If you are using one of the two local ngrok Marvins, you need to switch the SAS Url to one of our ngrok ids.  \n",
    "# Uncomment out the following lines and replace the ngrokid with the provided string\n",
    "#ngrokid = 'ngrok_number_string'\n",
    "#config.switchSasUrl('local', ngrokid=ngrokid)\n",
    "#print(config.sasurl)"
   ]
  },
  {
   "cell_type": "code",
   "execution_count": 2,
   "metadata": {},
   "outputs": [
    {
     "name": "stdout",
     "output_type": "stream",
     "text": [
      "INFO: No release version set. Setting default to MPL-5\n"
     ]
    }
   ],
   "source": [
    "# this is the Query tool\n",
    "from marvin.tools.query import Query"
   ]
  },
  {
   "cell_type": "markdown",
   "metadata": {},
   "source": [
    "The Marvin Query object allows you to specify a string search condition with which you want to look for results.  It will construct the necessary SQL syntax for you, send it to the database at Utah using the Marvin API, and return the results. The Query accepts as a keyword argument **searchfilter**.\n",
    "\n",
    "Let's try searching for all galaxies with a redshift < 0.1.  "
   ]
  },
  {
   "cell_type": "code",
   "execution_count": 4,
   "metadata": {
    "collapsed": true
   },
   "outputs": [],
   "source": [
    "# the string search condition\n",
    "my_search = 'z < 0.1'"
   ]
  },
  {
   "cell_type": "markdown",
   "metadata": {},
   "source": [
    "The above string search condition is a pseudo-natural language format.  Natural language in that you type what you mean to say, and pseudo because it still must be formatted in the standard SQL where condition syntax.  This syntax generally takes the form of **parameter_name operand value**. \n",
    "\n",
    "Marvin is smart enough to figure out which database table a parameter_name belongs to **if and only if** that name is a unique parameter name.  If not you must specify the database table name along with the parameter name, in the form of **table.parameter_name**.  Most MaNGA global properties come from the NASA-Sloan Atlas (NSA) catalog used for target selection. The database table name thus is **nsa**.  So the full parameter_name for redshift is **nsa.z**.\n",
    "\n",
    "If a parameter name is not unique, then Marvin will return an error asking you to fine-tune your parameter name by using the full parameter **table.parameter_name** "
   ]
  },
  {
   "cell_type": "code",
   "execution_count": 5,
   "metadata": {},
   "outputs": [
    {
     "name": "stdout",
     "output_type": "stream",
     "text": [
      "WARNING: class ArrayOps not Formable\n",
      "WARNING: class Character not Formable\n",
      "WARNING: class Plate not Formable\n",
      "Your parsed filter is: \n",
      "nsa.z<0.1\n",
      "Marvin Query(mode='remote', limit=100, sort=None, order='asc')\n"
     ]
    }
   ],
   "source": [
    "# the search condition using the full parameter name \n",
    "my_search = 'nsa.z < 0.1'\n",
    "\n",
    "# Let's setup the query.  This will not run it automatically. \n",
    "q = Query(searchfilter=my_search)\n",
    "print(q)"
   ]
  },
  {
   "cell_type": "markdown",
   "metadata": {},
   "source": [
    "Running the query produces a Marvin **`Results`** object (**`r`**):"
   ]
  },
  {
   "cell_type": "code",
   "execution_count": 6,
   "metadata": {},
   "outputs": [
    {
     "name": "stdout",
     "output_type": "stream",
     "text": [
      "Results contain of a total of 2491, only returning the first 100 results\n"
     ]
    }
   ],
   "source": [
    "# To run the query\n",
    "r = q.run()"
   ]
  },
  {
   "cell_type": "markdown",
   "metadata": {},
   "source": [
    "For number of results < 1000, Marvin will return the entire set of results. For queries that return > 1000, Marvin will paginate the results and only return the first 100, by default.  (This can be modified with the **limit** keyword)."
   ]
  },
  {
   "cell_type": "code",
   "execution_count": 7,
   "metadata": {},
   "outputs": [
    {
     "name": "stdout",
     "output_type": "stream",
     "text": [
      "total 2491\n",
      "returned 100\n"
     ]
    }
   ],
   "source": [
    "# Print result counts\n",
    "print('total', r.totalcount)\n",
    "print('returned', r.count)"
   ]
  },
  {
   "cell_type": "markdown",
   "metadata": {},
   "source": [
    "It can be useful for informational and debugging purposes to see the raw SQL of your query, and your query runtime.  If your query times out or crashes, the Marvin team will need these pieces of info to assess anything."
   ]
  },
  {
   "cell_type": "code",
   "execution_count": 8,
   "metadata": {},
   "outputs": [
    {
     "name": "stdout",
     "output_type": "stream",
     "text": [
      "SELECT mangadatadb.cube.mangaid AS \"cube.mangaid\", mangadatadb.cube.plate AS \"cube.plate\", concat(mangadatadb.cube.plate, '-', mangadatadb.ifudesign.name) AS \"cube.plateifu\", mangadatadb.ifudesign.name AS \"ifu.name\", mangasampledb.nsa.z AS \"nsa.z\" \n",
      "FROM mangadatadb.cube JOIN mangadatadb.ifudesign ON mangadatadb.ifudesign.pk = mangadatadb.cube.ifudesign_pk JOIN mangasampledb.manga_target ON mangasampledb.manga_target.pk = mangadatadb.cube.manga_target_pk JOIN mangasampledb.manga_target_to_nsa ON mangasampledb.manga_target.pk = mangasampledb.manga_target_to_nsa.manga_target_pk JOIN mangasampledb.nsa ON mangasampledb.nsa.pk = mangasampledb.manga_target_to_nsa.nsa_pk JOIN mangadatadb.pipeline_info AS drpalias ON drpalias.pk = mangadatadb.cube.pipeline_info_pk \n",
      "WHERE mangasampledb.nsa.z < 0.1 AND drpalias.pk = 25\n"
     ]
    }
   ],
   "source": [
    "# See the raw SQL\n",
    "print(r.showQuery())"
   ]
  },
  {
   "cell_type": "code",
   "execution_count": 9,
   "metadata": {},
   "outputs": [
    {
     "name": "stdout",
     "output_type": "stream",
     "text": [
      "timedelta 0:00:00.240311\n",
      "query time in seconds: 0.240311\n"
     ]
    }
   ],
   "source": [
    "# See the runtime of your query.  This produces a Python datetime.timedelta object showing days, seconds, microseconds\n",
    "print('timedelta', r.query_runtime)\n",
    "# See the total time in seconds\n",
    "print('query time in seconds:', r.query_runtime.total_seconds())"
   ]
  },
  {
   "cell_type": "markdown",
   "metadata": {},
   "source": [
    "Query results are stored in **r.results**.  This is a Python list object, and be indexed like an array. Since we have 100 results, let's only look at 10 for brevity."
   ]
  },
  {
   "cell_type": "code",
   "execution_count": 10,
   "metadata": {},
   "outputs": [
    {
     "data": {
      "text/plain": [
       "[NamedTuple(mangaid=u'1-22286', plate=7992, plateifu=u'7992-12704', name=u'12704', z=0.099954180419445),\n",
       " NamedTuple(mangaid=u'1-22298', plate=7992, plateifu=u'7992-12702', name=u'12702', z=0.0614774264395237),\n",
       " NamedTuple(mangaid=u'1-22333', plate=7992, plateifu=u'7992-3704', name=u'3704', z=0.0366250574588776),\n",
       " NamedTuple(mangaid=u'1-22347', plate=7992, plateifu=u'7992-3701', name=u'3701', z=0.0437936186790466),\n",
       " NamedTuple(mangaid=u'1-22383', plate=7992, plateifu=u'7992-3702', name=u'3702', z=0.0542150922119617),\n",
       " NamedTuple(mangaid=u'1-22412', plate=7992, plateifu=u'7992-9101', name=u'9101', z=0.0190997123718262),\n",
       " NamedTuple(mangaid=u'1-22414', plate=7992, plateifu=u'7992-6103', name=u'6103', z=0.0922721400856972),\n",
       " NamedTuple(mangaid=u'1-22438', plate=7992, plateifu=u'7992-1901', name=u'1901', z=0.016383046284318),\n",
       " NamedTuple(mangaid=u'1-22662', plate=7992, plateifu=u'7992-6104', name=u'6104', z=0.027131162583828),\n",
       " NamedTuple(mangaid=u'1-22970', plate=7992, plateifu=u'7992-3703', name=u'3703', z=0.0564263463020325)]"
      ]
     },
     "execution_count": 10,
     "metadata": {},
     "output_type": "execute_result"
    }
   ],
   "source": [
    "# Show the results. \n",
    "r.results[0:10]"
   ]
  },
  {
   "cell_type": "markdown",
   "metadata": {},
   "source": [
    "We will learn how to use the features of our **`Results`** object a little bit later, but first let's revise our search to see how more complex search queries work.\n",
    "\n",
    "## Multiple Search Criteria\n",
    "\n",
    "Let's add to our previous search to find only galaxies with M$_\\star$ > 3 $\\times$ 10$^{11}$ M$_\\odot$. \n",
    "\n",
    "Let's use the Sersic profile determination for stellar mass, which is the **`sersic_mass`** parameter of the **`nsa`** table, so its full search parameter designation will be **`nsa.sersic_mass`**.  Since it's unique, you can also just use **sersic_mass**. \n",
    "\n",
    "Adding multiple search criteria is as easy as writing it how you want it.  In this case, we want to AND the two criteria.  You can also OR, and NOT criteria.     "
   ]
  },
  {
   "cell_type": "code",
   "execution_count": 11,
   "metadata": {
    "collapsed": true
   },
   "outputs": [],
   "source": [
    "# my new search\n",
    "new_search = 'nsa.z < 0.1 and nsa.sersic_mass > 3e11'"
   ]
  },
  {
   "cell_type": "code",
   "execution_count": 12,
   "metadata": {},
   "outputs": [
    {
     "name": "stdout",
     "output_type": "stream",
     "text": [
      "Your parsed filter is: \n",
      "and_(nsa.z<0.1, nsa.sersic_mass>3e11)\n",
      "Results contain of a total of 5, only returning the first 5 results\n"
     ]
    }
   ],
   "source": [
    "config.setRelease('MPL-5')\n",
    "q2 = Query(searchfilter=new_search)\n",
    "r2 = q2.run()"
   ]
  },
  {
   "cell_type": "code",
   "execution_count": 13,
   "metadata": {},
   "outputs": [
    {
     "name": "stdout",
     "output_type": "stream",
     "text": [
      "5\n"
     ]
    },
    {
     "data": {
      "text/plain": [
       "[NamedTuple(mangaid=u'1-256301', plate=8258, plateifu=u'8258-9102', name=u'9102', sersic_mass=7116798033920.0, z=0.0961406528949738),\n",
       " NamedTuple(mangaid=u'1-338090', plate=8131, plateifu=u'8131-3701', name=u'3701', sersic_mass=1150581604352.0, z=0.0806723535060883),\n",
       " NamedTuple(mangaid=u'1-377378', plate=8132, plateifu=u'8132-6102', name=u'6102', sersic_mass=513574535168.0, z=0.0265520866960287),\n",
       " NamedTuple(mangaid=u'1-177135', plate=8613, plateifu=u'8613-6102', name=u'6102', sersic_mass=339920912384.0, z=0.0863755792379379),\n",
       " NamedTuple(mangaid=u'1-176803', plate=8613, plateifu=u'8613-12705', name=u'12705', sersic_mass=498717556736.0, z=0.0992977023124695)]"
      ]
     },
     "execution_count": 13,
     "metadata": {},
     "output_type": "execute_result"
    }
   ],
   "source": [
    "print(r2.totalcount)\n",
    "r2.results"
   ]
  },
  {
   "cell_type": "markdown",
   "metadata": {},
   "source": [
    "## Compound Search Statements\n",
    "\n",
    "Let's say we are interested in galaxies with redshift < 0.1 and stellar mass > 3e11 or 19-fiber IFUs with an NSA sersic index < 2. We can compound multiple criteria together using parantheses.  Use parantheses to help set the order of precedence. Without parantheses, the order is NOT > AND > OR. \n",
    "\n",
    "To find 19 fiber IFUs, we'll use the **`name`** parameter of the **`ifu`** table, which means the full search parameter is **`ifu.name`**. However, **`ifu.name`** returns the IFU design name, such as `1901`, so we need to to set the value to `19*`, which acts as a wildcard."
   ]
  },
  {
   "cell_type": "code",
   "execution_count": 14,
   "metadata": {
    "collapsed": true
   },
   "outputs": [],
   "source": [
    "# new search\n",
    "new_search = '(z<0.1 and nsa.sersic_logmass > 11.47) or (ifu.name=19* and nsa.sersic_n < 2)'"
   ]
  },
  {
   "cell_type": "code",
   "execution_count": 15,
   "metadata": {},
   "outputs": [
    {
     "name": "stdout",
     "output_type": "stream",
     "text": [
      "Your parsed filter is: \n",
      "or_(and_(z<0.1, nsa.sersic_logmass>11.47), and_(ifu.name=19*, nsa.sersic_n<2))\n",
      "Results contain of a total of 73, only returning the first 73 results\n"
     ]
    }
   ],
   "source": [
    "q3 = Query(searchfilter=new_search)\n",
    "r3 = q3.run()"
   ]
  },
  {
   "cell_type": "code",
   "execution_count": 16,
   "metadata": {},
   "outputs": [
    {
     "data": {
      "text/plain": [
       "[NamedTuple(mangaid=u'1-113698', plate=8618, plateifu=u'8618-1901', name=u'1901', sersic_n=1.05041015148163, z=0.0167444702237844, sersic_logmass=8.72179310463345),\n",
       " NamedTuple(mangaid=u'1-113525', plate=7815, plateifu=u'7815-1902', name=u'1902', sersic_n=1.47198081016541, z=0.0169457346200943, sersic_logmass=9.24935095951942),\n",
       " NamedTuple(mangaid=u'1-44047', plate=8143, plateifu=u'8143-1902', name=u'1902', sersic_n=1.70141613483429, z=0.04137859120965, sersic_logmass=9.91776871789156),\n",
       " NamedTuple(mangaid=u'1-339233', plate=8138, plateifu=u'8138-1901', name=u'1901', sersic_n=1.20877087116241, z=0.0275300275534391, sersic_logmass=9.22473029989932),\n",
       " NamedTuple(mangaid=u'1-47221', plate=8724, plateifu=u'8724-1902', name=u'1902', sersic_n=1.12148797512054, z=0.0245308186858892, sersic_logmass=9.52673599992922)]"
      ]
     },
     "execution_count": 16,
     "metadata": {},
     "output_type": "execute_result"
    }
   ],
   "source": [
    "r3.results[0:5]"
   ]
  },
  {
   "cell_type": "markdown",
   "metadata": {},
   "source": [
    "## Returning Additional Parameters\n",
    "\n",
    "Often you want to run a query and return parameters that you didn't explicitly search on. For instance, you want to find galaxies below a redshift of 0.1 and would like to know their RA and DECs.\n",
    "\n",
    "This is as easy as specifying the **`returnparams`** keyword option in Query with either a string (for a single parameter) or a list of strings (for multiple parameters)."
   ]
  },
  {
   "cell_type": "code",
   "execution_count": 3,
   "metadata": {},
   "outputs": [
    {
     "name": "stdout",
     "output_type": "stream",
     "text": [
      "WARNING: class ArrayOps not Formable\n",
      "WARNING: class Character not Formable\n",
      "WARNING: class Plate not Formable\n",
      "Your parsed filter is: \n",
      "nsa.z<0.1\n",
      "my params ['cube.mangaid', 'cube.plate', 'cube.plateifu', 'ifu.name', 'cube.ra', 'cube.dec', 'nsa.z']\n"
     ]
    },
    {
     "data": {
      "text/plain": [
       "[(u'1-209232',\n",
       "  8485,\n",
       "  u'8485-1901',\n",
       "  u'1901',\n",
       "  232.544703894,\n",
       "  48.6902009334,\n",
       "  0.0407447),\n",
       " (u'1-209113',\n",
       "  8485,\n",
       "  u'8485-1902',\n",
       "  u'1902',\n",
       "  235.579767474,\n",
       "  48.4657254749,\n",
       "  0.0378877),\n",
       " (u'1-209191',\n",
       "  8485,\n",
       "  u'8485-12701',\n",
       "  u'12701',\n",
       "  233.319217849,\n",
       "  48.119650849,\n",
       "  0.0234253),\n",
       " (u'1-209151',\n",
       "  8485,\n",
       "  u'8485-12702',\n",
       "  u'12702',\n",
       "  234.60459264,\n",
       "  48.0559143122,\n",
       "  0.0185246)]"
      ]
     },
     "execution_count": 3,
     "metadata": {},
     "output_type": "execute_result"
    }
   ],
   "source": [
    "my_search = 'nsa.z < 0.1'\n",
    "q = Query(searchfilter=my_search, returnparams=['cube.ra', 'cube.dec'])\n",
    "r = q.run()\n",
    "r.results[0:5]"
   ]
  },
  {
   "cell_type": "markdown",
   "metadata": {},
   "source": [
    "## Local (Sub-Spaxel) Queries (... or DAP Zonal Queries)\n",
    "So far we have seen queries on global galaxy properties.  These queries returned a list of galaxies satisfying the search criteria.  We can also perform queries on spaxel regions within galaxies.  \n",
    "\n",
    "Let's find all spaxels from galaxies with a redshift < 0.1 that have H-alpha emission line flux > 30.\n",
    "\n",
    "DAP properties are in a table called **spaxelprop**.  The DAP-derived H-alpha emission line gaussian flux is called **emline_gflux_ha_6564**.  Since this parameter is unique, you can either specify **emline_gflux_ha_6564** or **spaxelprop.emline_gflux_ha_6564**   "
   ]
  },
  {
   "cell_type": "code",
   "execution_count": 11,
   "metadata": {
    "collapsed": true
   },
   "outputs": [],
   "source": [
    "spax_search = 'nsa.z < 0.1 and emline_gflux_ha_6564 > 30'"
   ]
  },
  {
   "cell_type": "code",
   "execution_count": 12,
   "metadata": {},
   "outputs": [
    {
     "name": "stdout",
     "output_type": "stream",
     "text": [
      "Your parsed filter is: \n",
      "and_(nsa.z<0.1, emline_gflux_ha_6564>30)\n",
      "Results contain of a total of 43764, only returning the first 100 results\n"
     ]
    }
   ],
   "source": [
    "q4 = Query(searchfilter=spax_search, returnparams=['emline_sew_ha_6564', 'emline_gflux_hb_4862', 'stellar_vel'])\n",
    "r4 = q4.run()"
   ]
  },
  {
   "cell_type": "code",
   "execution_count": 13,
   "metadata": {},
   "outputs": [
    {
     "data": {
      "text/plain": [
       "0.839426"
      ]
     },
     "execution_count": 13,
     "metadata": {},
     "output_type": "execute_result"
    }
   ],
   "source": [
    "r4.totalcount\n",
    "r4.query_runtime.total_seconds()"
   ]
  },
  {
   "cell_type": "markdown",
   "metadata": {},
   "source": [
    "Spaxel queries will return a list of all spaxels satisfying your criteria.  By default spaxel queries will return the galaxy information, and spaxel x and y.  "
   ]
  },
  {
   "cell_type": "code",
   "execution_count": 15,
   "metadata": {},
   "outputs": [
    {
     "data": {
      "text/plain": [
       "[NamedTuple(mangaid=u'1-301579', plate=8462, plateifu=u'8462-1902', name=u'1902', emline_sew_ha_6564=23.0088329315, emline_gflux_hb_4862=7.41308, stellar_vel=21.5309, emline_gflux_ha_6564=31.6974315643, z=0.0231709145009518, x=17, y=15),\n",
       " NamedTuple(mangaid=u'1-301579', plate=8462, plateifu=u'8462-1902', name=u'1902', emline_sew_ha_6564=22.4930744171, emline_gflux_hb_4862=7.9739, stellar_vel=25.152, emline_gflux_ha_6564=33.9213638306, z=0.0231709145009518, x=17, y=16),\n",
       " NamedTuple(mangaid=u'1-301579', plate=8462, plateifu=u'8462-1902', name=u'1902', emline_sew_ha_6564=22.5101089478, emline_gflux_hb_4862=8.46212, stellar_vel=28.1003, emline_gflux_ha_6564=37.1518554688, z=0.0231709145009518, x=17, y=17),\n",
       " NamedTuple(mangaid=u'1-301579', plate=8462, plateifu=u'8462-1902', name=u'1902', emline_sew_ha_6564=21.9120578766, emline_gflux_hb_4862=7.81035, stellar_vel=31.7994, emline_gflux_ha_6564=33.5065727234, z=0.0231709145009518, x=17, y=18),\n",
       " NamedTuple(mangaid=u'1-301579', plate=8462, plateifu=u'8462-1902', name=u'1902', emline_sew_ha_6564=26.024564743, emline_gflux_hb_4862=7.02141, stellar_vel=22.8788, emline_gflux_ha_6564=31.2817230225, z=0.0231709145009518, x=18, y=15)]"
      ]
     },
     "execution_count": 15,
     "metadata": {},
     "output_type": "execute_result"
    }
   ],
   "source": [
    "r4.results[0:5]"
   ]
  },
  {
   "cell_type": "code",
   "execution_count": 16,
   "metadata": {},
   "outputs": [
    {
     "name": "stdout",
     "output_type": "stream",
     "text": [
      "# unique galaxies 4\n",
      "set([u'8455-3704', u'8462-1902', u'8455-9101', u'9026-3701'])\n"
     ]
    }
   ],
   "source": [
    "# We have a large number query spaxel results but from how many actual galaxies?\n",
    "plateifu = r4.getListOf('plateifu')\n",
    "print('# unique galaxies', len(set(plateifu)))\n",
    "print(set(plateifu))"
   ]
  },
  {
   "cell_type": "markdown",
   "metadata": {},
   "source": [
    "Once you have a set of query Results, you can easily convert your results into Marvin objects in your workflow.  Depending on your result parameters, you can convert to Marvin Cubes, Maps, Spaxels, ModelCubes, or RSS. Let's convert our Results to Marvin Cubes. **Note: Depending on the number of results, this conversion step may take a long time.  Be careful!**"
   ]
  },
  {
   "cell_type": "code",
   "execution_count": 17,
   "metadata": {},
   "outputs": [
    {
     "name": "stdout",
     "output_type": "stream",
     "text": [
      "Converting results to Marvin Cube objects\n"
     ]
    }
   ],
   "source": [
    "# Convert to Cubes.  For brevity, let's only convert only the first object.  \n",
    "r4.convertToTool('cube', limit=1)"
   ]
  },
  {
   "cell_type": "code",
   "execution_count": 18,
   "metadata": {},
   "outputs": [
    {
     "name": "stdout",
     "output_type": "stream",
     "text": [
      "[<Marvin Cube (plateifu='8462-1902', mode='remote', data_origin='api')>]\n"
     ]
    }
   ],
   "source": [
    "print(r4.objects)\n",
    "cube = r4.objects[0]"
   ]
  },
  {
   "cell_type": "code",
   "execution_count": 19,
   "metadata": {},
   "outputs": [
    {
     "name": "stdout",
     "output_type": "stream",
     "text": [
      "<Marvin Maps (plateifu='8462-1902', mode='remote', data_origin='api', bintype=SPX,template_kin=GAU-MILESHC)>\n"
     ]
    },
    {
     "data": {
      "text/plain": [
       "<matplotlib.axes._subplots.AxesSubplot at 0x11db04e90>"
      ]
     },
     "execution_count": 19,
     "metadata": {},
     "output_type": "execute_result"
    },
    {
     "data": {
      "image/png": "[encoded data removed]",
      "text/plain": [
       "<matplotlib.figure.Figure at 0x11ac61490>"
      ]
     },
     "metadata": {},
     "output_type": "display_data"
    },
    {
     "data": {
      "image/png": "[encoded data removed]",
      "text/plain": [
       "<matplotlib.figure.Figure at 0x10693e3d0>"
      ]
     },
     "metadata": {},
     "output_type": "display_data"
    }
   ],
   "source": [
    "# From a cube, now we can do all things from Marvin Tools, like get a MaNGA MAPS object\n",
    "maps = cube.getMaps()\n",
    "print(maps)\n",
    "\n",
    "# get a emission line sew map\n",
    "em=maps.getMap('emline_sew', channel='ha_6564')\n",
    "# plot it\n",
    "em.plot()\n",
    "\n",
    "# .. and a stellar velocity map\n",
    "st=maps.getMap('stellar_vel')\n",
    "# plot it\n",
    "st.plot()"
   ]
  },
  {
   "cell_type": "markdown",
   "metadata": {},
   "source": [
    "or since our results are from a spaxel query, we can convert to Marvin Spaxels"
   ]
  },
  {
   "cell_type": "code",
   "execution_count": 20,
   "metadata": {},
   "outputs": [
    {
     "name": "stdout",
     "output_type": "stream",
     "text": [
      "Converting results to Marvin Spaxel objects\n",
      "[<Marvin Spaxel (x=17, y=15; x_cen=0, y_cen=-2>, <Marvin Spaxel (x=17, y=16; x_cen=0, y_cen=-1>]\n"
     ]
    }
   ],
   "source": [
    "# let's convert to Marvin Spaxels.  Again, for brevity, let's only convert the first two.\n",
    "r4.convertToTool('spaxel', limit=2)\n",
    "print(r4.objects)"
   ]
  },
  {
   "cell_type": "code",
   "execution_count": 21,
   "metadata": {},
   "outputs": [
    {
     "data": {
      "text/plain": [
       "<matplotlib.axes._subplots.AxesSubplot at 0x11e3aa810>"
      ]
     },
     "execution_count": 21,
     "metadata": {},
     "output_type": "execute_result"
    },
    {
     "data": {
      "image/png": "[encoded data removed]",
      "text/plain": [
       "<matplotlib.figure.Figure at 0x11e359550>"
      ]
     },
     "metadata": {},
     "output_type": "display_data"
    }
   ],
   "source": [
    "# Now we can do all the Spaxel things, like plot\n",
    "spaxel = r4.objects[0]\n",
    "spaxel.spectrum.plot()"
   ]
  },
  {
   "cell_type": "markdown",
   "metadata": {},
   "source": [
    "You can also convert your query results into other formats like an Astropy Table, or FITS"
   ]
  },
  {
   "cell_type": "code",
   "execution_count": 29,
   "metadata": {},
   "outputs": [
    {
     "data": {
      "text/html": [
       "&lt;Table length=100&gt;\n",
       "<table id=\"table4809440144\" class=\"table-striped table-bordered table-condensed\">\n",
       "<thead><tr><th>mangaid</th><th>plate</th><th>plateifu</th><th>name</th><th>emline_sew_ha_6564</th><th>emline_gflux_hb_4862</th><th>stellar_vel</th><th>emline_gflux_ha_6564</th><th>z</th><th>x</th><th>y</th></tr></thead>\n",
       "<thead><tr><th>unicode8</th><th>int64</th><th>unicode9</th><th>unicode4</th><th>float64</th><th>float64</th><th>float64</th><th>float64</th><th>float64</th><th>int64</th><th>int64</th></tr></thead>\n",
       "<tr><td>1-301579</td><td>8462</td><td>8462-1902</td><td>1902</td><td>23.0088329315</td><td>7.41308</td><td>21.5309</td><td>31.6974315643</td><td>0.023170914501</td><td>17</td><td>15</td></tr>\n",
       "<tr><td>1-301579</td><td>8462</td><td>8462-1902</td><td>1902</td><td>22.4930744171</td><td>7.9739</td><td>25.152</td><td>33.9213638306</td><td>0.023170914501</td><td>17</td><td>16</td></tr>\n",
       "<tr><td>1-301579</td><td>8462</td><td>8462-1902</td><td>1902</td><td>22.5101089478</td><td>8.46212</td><td>28.1003</td><td>37.1518554688</td><td>0.023170914501</td><td>17</td><td>17</td></tr>\n",
       "<tr><td>1-301579</td><td>8462</td><td>8462-1902</td><td>1902</td><td>21.9120578766</td><td>7.81035</td><td>31.7994</td><td>33.5065727234</td><td>0.023170914501</td><td>17</td><td>18</td></tr>\n",
       "<tr><td>1-301579</td><td>8462</td><td>8462-1902</td><td>1902</td><td>26.024564743</td><td>7.02141</td><td>22.8788</td><td>31.2817230225</td><td>0.023170914501</td><td>18</td><td>15</td></tr>\n",
       "<tr><td>1-301579</td><td>8462</td><td>8462-1902</td><td>1902</td><td>25.1316452026</td><td>7.87042</td><td>26.6401</td><td>34.2383842468</td><td>0.023170914501</td><td>18</td><td>16</td></tr>\n",
       "<tr><td>1-301579</td><td>8462</td><td>8462-1902</td><td>1902</td><td>24.2632751465</td><td>8.01464</td><td>28.7959</td><td>34.5796546936</td><td>0.023170914501</td><td>18</td><td>17</td></tr>\n",
       "<tr><td>1-301579</td><td>8462</td><td>8462-1902</td><td>1902</td><td>22.8988399506</td><td>7.3722</td><td>32.3601</td><td>31.1150398254</td><td>0.023170914501</td><td>18</td><td>18</td></tr>\n",
       "<tr><td>1-274545</td><td>8455</td><td>8455-3704</td><td>3704</td><td>46.6888847351</td><td>8.67696</td><td>43.8736</td><td>30.3356990814</td><td>0.0231080818921</td><td>17</td><td>18</td></tr>\n",
       "<tr><td>1-274545</td><td>8455</td><td>8455-3704</td><td>3704</td><td>47.8790435791</td><td>8.74892</td><td>40.1562</td><td>30.6849479675</td><td>0.0231080818921</td><td>18</td><td>18</td></tr>\n",
       "<tr><td>...</td><td>...</td><td>...</td><td>...</td><td>...</td><td>...</td><td>...</td><td>...</td><td>...</td><td>...</td><td>...</td></tr>\n",
       "<tr><td>1-94584</td><td>9026</td><td>9026-3701</td><td>3701</td><td>118.26210022</td><td>22.0365</td><td>20.7875</td><td>108.489959717</td><td>0.0227800589055</td><td>20</td><td>21</td></tr>\n",
       "<tr><td>1-94584</td><td>9026</td><td>9026-3701</td><td>3701</td><td>123.146537781</td><td>24.2915</td><td>27.9045</td><td>122.382804871</td><td>0.0227800589055</td><td>20</td><td>22</td></tr>\n",
       "<tr><td>1-94584</td><td>9026</td><td>9026-3701</td><td>3701</td><td>121.536254883</td><td>22.4152</td><td>36.59</td><td>111.721664429</td><td>0.0227800589055</td><td>20</td><td>23</td></tr>\n",
       "<tr><td>1-94584</td><td>9026</td><td>9026-3701</td><td>3701</td><td>113.570976257</td><td>17.9004</td><td>40.1419</td><td>85.0947418213</td><td>0.0227800589055</td><td>20</td><td>24</td></tr>\n",
       "<tr><td>1-94584</td><td>9026</td><td>9026-3701</td><td>3701</td><td>99.803276062</td><td>12.1024</td><td>41.2959</td><td>56.4052734375</td><td>0.0227800589055</td><td>20</td><td>25</td></tr>\n",
       "<tr><td>1-94584</td><td>9026</td><td>9026-3701</td><td>3701</td><td>80.4492111206</td><td>7.00366</td><td>38.8192</td><td>30.691614151</td><td>0.0227800589055</td><td>20</td><td>26</td></tr>\n",
       "<tr><td>1-94584</td><td>9026</td><td>9026-3701</td><td>3701</td><td>85.7823410034</td><td>5.89496</td><td>20.3334</td><td>31.4790840149</td><td>0.0227800589055</td><td>21</td><td>18</td></tr>\n",
       "<tr><td>1-94584</td><td>9026</td><td>9026-3701</td><td>3701</td><td>99.0946960449</td><td>10.4262</td><td>13.4577</td><td>52.436958313</td><td>0.0227800589055</td><td>21</td><td>19</td></tr>\n",
       "<tr><td>1-94584</td><td>9026</td><td>9026-3701</td><td>3701</td><td>111.594490051</td><td>16.6364</td><td>11.7671</td><td>82.6109924316</td><td>0.0227800589055</td><td>21</td><td>20</td></tr>\n",
       "<tr><td>1-94584</td><td>9026</td><td>9026-3701</td><td>3701</td><td>123.352432251</td><td>22.7643</td><td>17.5941</td><td>115.184829712</td><td>0.0227800589055</td><td>21</td><td>21</td></tr>\n",
       "</table>"
      ],
      "text/plain": [
       "<Table length=100>\n",
       "mangaid  plate  plateifu   name   ...        z          x     y  \n",
       "unicode8 int64  unicode9 unicode4 ...     float64     int64 int64\n",
       "-------- ----- --------- -------- ... --------------- ----- -----\n",
       "1-301579  8462 8462-1902     1902 ...  0.023170914501    17    15\n",
       "1-301579  8462 8462-1902     1902 ...  0.023170914501    17    16\n",
       "1-301579  8462 8462-1902     1902 ...  0.023170914501    17    17\n",
       "1-301579  8462 8462-1902     1902 ...  0.023170914501    17    18\n",
       "1-301579  8462 8462-1902     1902 ...  0.023170914501    18    15\n",
       "1-301579  8462 8462-1902     1902 ...  0.023170914501    18    16\n",
       "1-301579  8462 8462-1902     1902 ...  0.023170914501    18    17\n",
       "1-301579  8462 8462-1902     1902 ...  0.023170914501    18    18\n",
       "1-274545  8455 8455-3704     3704 ... 0.0231080818921    17    18\n",
       "1-274545  8455 8455-3704     3704 ... 0.0231080818921    18    18\n",
       "     ...   ...       ...      ... ...             ...   ...   ...\n",
       " 1-94584  9026 9026-3701     3701 ... 0.0227800589055    20    21\n",
       " 1-94584  9026 9026-3701     3701 ... 0.0227800589055    20    22\n",
       " 1-94584  9026 9026-3701     3701 ... 0.0227800589055    20    23\n",
       " 1-94584  9026 9026-3701     3701 ... 0.0227800589055    20    24\n",
       " 1-94584  9026 9026-3701     3701 ... 0.0227800589055    20    25\n",
       " 1-94584  9026 9026-3701     3701 ... 0.0227800589055    20    26\n",
       " 1-94584  9026 9026-3701     3701 ... 0.0227800589055    21    18\n",
       " 1-94584  9026 9026-3701     3701 ... 0.0227800589055    21    19\n",
       " 1-94584  9026 9026-3701     3701 ... 0.0227800589055    21    20\n",
       " 1-94584  9026 9026-3701     3701 ... 0.0227800589055    21    21"
      ]
     },
     "execution_count": 29,
     "metadata": {},
     "output_type": "execute_result"
    }
   ],
   "source": [
    "r4.toTable()"
   ]
  },
  {
   "cell_type": "code",
   "execution_count": 34,
   "metadata": {},
   "outputs": [
    {
     "name": "stdout",
     "output_type": "stream",
     "text": [
      "Writing new FITS file my_r4_results_2.fits\n"
     ]
    }
   ],
   "source": [
    "r4.toFits('my_r4_results_2.fits')"
   ]
  },
  {
   "cell_type": "markdown",
   "metadata": {
    "collapsed": true
   },
   "source": [
    "## A note on Table and Name shortcuts\n",
    "In Queries you must specify a **parameter_name** or **table.parameter_name**. However to make it a bit easier, we have created table shortcuts and parameter name shortcuts for a few parameters.  (more to be added..) \n",
    "\n",
    "* **ifu.name** = **ifudesign.name**\n",
    "* **haflux** = **emline_gflux_ha_6564**\n",
    "* **g_r** = **nsa.elpetro_mag_g_r**"
   ]
  },
  {
   "cell_type": "markdown",
   "metadata": {},
   "source": [
    "## Retrieving Available Search Parameters\n",
    "There are many parameters to search with.  You can retrieve a list of available parameters to query.  Please note that while currently many parameters in the list can technically be queried on, they have not been thoroughly tested to work, nor may they make any sense to query on.  We cannot guarantee what will happen.  If you find a parameter that should be queryable and does not work, please let us know."
   ]
  },
  {
   "cell_type": "code",
   "execution_count": 4,
   "metadata": {},
   "outputs": [
    {
     "data": {
      "text/plain": [
       "[u'maskbit.bit',\n",
       " u'maskbit.description',\n",
       " u'maskbit.flag',\n",
       " u'maskbit.label',\n",
       " u'maskbit_labels.flag',\n",
       " u'maskbit_labels.labels',\n",
       " u'maskbit_labels.maskbit',\n",
       " u'binid.id',\n",
       " u'spaxelprop.spaxelprops',\n",
       " u'spaxelprop.spaxelprops5',\n",
       " u'binmode.name',\n",
       " u'binmode.structures',\n",
       " u'bintype.name',\n",
       " u'bintype.structures',\n",
       " u'current_default.file',\n",
       " u'current_default.filename',\n",
       " u'current_default.filepath',\n",
       " u'executionplan.comments',\n",
       " u'executionplan.id',\n",
       " u'executionplan.structures',\n",
       " u'extcol.hdus',\n",
       " u'extcol.name',\n",
       " u'extname.hdus',\n",
       " u'extname.name',\n",
       " u'exttype.hdus',\n",
       " u'exttype.name',\n",
       " u'file.cube',\n",
       " u'file.current_default',\n",
       " u'file.filename',\n",
       " u'file.filepath',\n",
       " u'file.filetype',\n",
       " u'file.hdus',\n",
       " u'file.modelcube',\n",
       " u'file.num_ext',\n",
       " u'file.pipelineinfo',\n",
       " u'spaxelprop.spaxelprops',\n",
       " u'spaxelprop.spaxelprops5',\n",
       " u'file.structure',\n",
       " u'filetype.files',\n",
       " u'filetype.value',\n",
       " u'hdu.extcols',\n",
       " u'hdu.extname',\n",
       " u'hdu.extno',\n",
       " u'hdu.exttype',\n",
       " u'hdu.file',\n",
       " u'hdu.header_values',\n",
       " u'maps_header_keyword.name',\n",
       " u'maps_header_keyword.values',\n",
       " u'maps_header_value.comment',\n",
       " u'maps_header_value.hdus',\n",
       " u'maps_header_value.index',\n",
       " u'maps_header_value.keyword',\n",
       " u'maps_header_value.value',\n",
       " u'modelcube.file',\n",
       " u'modelcube.modelspaxels',\n",
       " u'modelcube.redcorr',\n",
       " u'modelspaxel.emline',\n",
       " u'modelspaxel.emline_base',\n",
       " u'modelspaxel.emline_mask',\n",
       " u'modelspaxel.flux',\n",
       " u'modelspaxel.ivar',\n",
       " u'modelspaxel.mask',\n",
       " u'modelspaxel.model',\n",
       " u'modelspaxel.modelcube',\n",
       " u'modelspaxel.x',\n",
       " u'modelspaxel.y',\n",
       " u'redcorr.modelcube',\n",
       " u'redcorr.value',\n",
       " u'spaxelprop.bin_area',\n",
       " u'spaxelprop.bin_farea',\n",
       " u'spaxelprop.bin_lwellcoo_lum_weighted_elliptical_azimuth',\n",
       " u'spaxelprop.bin_lwellcoo_lum_weighted_elliptical_radius',\n",
       " u'spaxelprop.bin_lwskycoo_lum_weighted_on_sky_x',\n",
       " u'spaxelprop.bin_lwskycoo_lum_weighted_on_sky_y',\n",
       " u'spaxelprop.bin_mflux',\n",
       " u'spaxelprop.bin_mflux_ivar',\n",
       " u'spaxelprop.bin_mflux_mask',\n",
       " u'spaxelprop.bin_snr',\n",
       " u'spaxelprop.binid',\n",
       " u'spaxelprop.binidfk',\n",
       " u'spaxelprop.emline_gflux_ha_6564',\n",
       " u'spaxelprop.emline_gflux_hb_4862',\n",
       " u'spaxelprop.emline_gflux_hdel_4102',\n",
       " u'spaxelprop.emline_gflux_hei_5877',\n",
       " u'spaxelprop.emline_gflux_heii_4687',\n",
       " u'spaxelprop.emline_gflux_heps_3971',\n",
       " u'spaxelprop.emline_gflux_hgam_4341',\n",
       " u'spaxelprop.emline_gflux_ivar_ha_6564',\n",
       " u'spaxelprop.emline_gflux_ivar_hb_4862',\n",
       " u'spaxelprop.emline_gflux_ivar_hdel_4102',\n",
       " u'spaxelprop.emline_gflux_ivar_hei_5877',\n",
       " u'spaxelprop.emline_gflux_ivar_heii_4687',\n",
       " u'spaxelprop.emline_gflux_ivar_heps_3971',\n",
       " u'spaxelprop.emline_gflux_ivar_hgam_4341',\n",
       " u'spaxelprop.emline_gflux_ivar_nii_6549',\n",
       " u'spaxelprop.emline_gflux_ivar_nii_6585',\n",
       " u'spaxelprop.emline_gflux_ivar_oi_6302',\n",
       " u'spaxelprop.emline_gflux_ivar_oi_6365',\n",
       " u'spaxelprop.emline_gflux_ivar_oii_3727',\n",
       " u'spaxelprop.emline_gflux_ivar_oii_3729',\n",
       " u'spaxelprop.emline_gflux_ivar_oiid_3728',\n",
       " u'spaxelprop.emline_gflux_ivar_oiii_4960',\n",
       " u'spaxelprop.emline_gflux_ivar_oiii_5008',\n",
       " u'spaxelprop.emline_gflux_ivar_sii_6718',\n",
       " u'spaxelprop.emline_gflux_ivar_sii_6732',\n",
       " u'spaxelprop.emline_gflux_ivar_siii_8831',\n",
       " u'spaxelprop.emline_gflux_ivar_siii_9071',\n",
       " u'spaxelprop.emline_gflux_ivar_siii_9533',\n",
       " u'spaxelprop.emline_gflux_mask_ha_6564',\n",
       " u'spaxelprop.emline_gflux_mask_hb_4862',\n",
       " u'spaxelprop.emline_gflux_mask_hdel_4102',\n",
       " u'spaxelprop.emline_gflux_mask_hei_5877',\n",
       " u'spaxelprop.emline_gflux_mask_heii_4687',\n",
       " u'spaxelprop.emline_gflux_mask_heps_3971',\n",
       " u'spaxelprop.emline_gflux_mask_hgam_4341',\n",
       " u'spaxelprop.emline_gflux_mask_nii_6549',\n",
       " u'spaxelprop.emline_gflux_mask_nii_6585',\n",
       " u'spaxelprop.emline_gflux_mask_oi_6302',\n",
       " u'spaxelprop.emline_gflux_mask_oi_6365',\n",
       " u'spaxelprop.emline_gflux_mask_oii_3727',\n",
       " u'spaxelprop.emline_gflux_mask_oii_3729',\n",
       " u'spaxelprop.emline_gflux_mask_oiid_3728',\n",
       " u'spaxelprop.emline_gflux_mask_oiii_4960',\n",
       " u'spaxelprop.emline_gflux_mask_oiii_5008',\n",
       " u'spaxelprop.emline_gflux_mask_sii_6718',\n",
       " u'spaxelprop.emline_gflux_mask_sii_6732',\n",
       " u'spaxelprop.emline_gflux_mask_siii_8831',\n",
       " u'spaxelprop.emline_gflux_mask_siii_9071',\n",
       " u'spaxelprop.emline_gflux_mask_siii_9533',\n",
       " u'spaxelprop.emline_gflux_nii_6549',\n",
       " u'spaxelprop.emline_gflux_nii_6585',\n",
       " u'spaxelprop.emline_gflux_oi_6302',\n",
       " u'spaxelprop.emline_gflux_oi_6365',\n",
       " u'spaxelprop.emline_gflux_oii_3727',\n",
       " u'spaxelprop.emline_gflux_oii_3729',\n",
       " u'spaxelprop.emline_gflux_oiid_3728',\n",
       " u'spaxelprop.emline_gflux_oiii_4960',\n",
       " u'spaxelprop.emline_gflux_oiii_5008',\n",
       " u'spaxelprop.emline_gflux_sii_6718',\n",
       " u'spaxelprop.emline_gflux_sii_6732',\n",
       " u'spaxelprop.emline_gflux_siii_8831',\n",
       " u'spaxelprop.emline_gflux_siii_9071',\n",
       " u'spaxelprop.emline_gflux_siii_9533',\n",
       " u'spaxelprop.emline_gsigma_ha_6564',\n",
       " u'spaxelprop.emline_gsigma_hb_4862',\n",
       " u'spaxelprop.emline_gsigma_hdel_4102',\n",
       " u'spaxelprop.emline_gsigma_hei_5877',\n",
       " u'spaxelprop.emline_gsigma_heii_4687',\n",
       " u'spaxelprop.emline_gsigma_heps_3971',\n",
       " u'spaxelprop.emline_gsigma_hgam_4341',\n",
       " u'spaxelprop.emline_gsigma_ivar_ha_6564',\n",
       " u'spaxelprop.emline_gsigma_ivar_hb_4862',\n",
       " u'spaxelprop.emline_gsigma_ivar_hdel_4102',\n",
       " u'spaxelprop.emline_gsigma_ivar_hei_5877',\n",
       " u'spaxelprop.emline_gsigma_ivar_heii_4687',\n",
       " u'spaxelprop.emline_gsigma_ivar_heps_3971',\n",
       " u'spaxelprop.emline_gsigma_ivar_hgam_4341',\n",
       " u'spaxelprop.emline_gsigma_ivar_nii_6549',\n",
       " u'spaxelprop.emline_gsigma_ivar_nii_6585',\n",
       " u'spaxelprop.emline_gsigma_ivar_oi_6302',\n",
       " u'spaxelprop.emline_gsigma_ivar_oi_6365',\n",
       " u'spaxelprop.emline_gsigma_ivar_oii_3727',\n",
       " u'spaxelprop.emline_gsigma_ivar_oii_3729',\n",
       " u'spaxelprop.emline_gsigma_ivar_oiid_3728',\n",
       " u'spaxelprop.emline_gsigma_ivar_oiii_4960',\n",
       " u'spaxelprop.emline_gsigma_ivar_oiii_5008',\n",
       " u'spaxelprop.emline_gsigma_ivar_sii_6718',\n",
       " u'spaxelprop.emline_gsigma_ivar_sii_6732',\n",
       " u'spaxelprop.emline_gsigma_ivar_siii_8831',\n",
       " u'spaxelprop.emline_gsigma_ivar_siii_9071',\n",
       " u'spaxelprop.emline_gsigma_ivar_siii_9533',\n",
       " u'spaxelprop.emline_gsigma_mask_ha_6564',\n",
       " u'spaxelprop.emline_gsigma_mask_hb_4862',\n",
       " u'spaxelprop.emline_gsigma_mask_hdel_4102',\n",
       " u'spaxelprop.emline_gsigma_mask_hei_5877',\n",
       " u'spaxelprop.emline_gsigma_mask_heii_4687',\n",
       " u'spaxelprop.emline_gsigma_mask_heps_3971',\n",
       " u'spaxelprop.emline_gsigma_mask_hgam_4341',\n",
       " u'spaxelprop.emline_gsigma_mask_nii_6549',\n",
       " u'spaxelprop.emline_gsigma_mask_nii_6585',\n",
       " u'spaxelprop.emline_gsigma_mask_oi_6302',\n",
       " u'spaxelprop.emline_gsigma_mask_oi_6365',\n",
       " u'spaxelprop.emline_gsigma_mask_oii_3727',\n",
       " u'spaxelprop.emline_gsigma_mask_oii_3729',\n",
       " u'spaxelprop.emline_gsigma_mask_oiid_3728',\n",
       " u'spaxelprop.emline_gsigma_mask_oiii_4960',\n",
       " u'spaxelprop.emline_gsigma_mask_oiii_5008',\n",
       " u'spaxelprop.emline_gsigma_mask_sii_6718',\n",
       " u'spaxelprop.emline_gsigma_mask_sii_6732',\n",
       " u'spaxelprop.emline_gsigma_mask_siii_8831',\n",
       " u'spaxelprop.emline_gsigma_mask_siii_9071',\n",
       " u'spaxelprop.emline_gsigma_mask_siii_9533',\n",
       " u'spaxelprop.emline_gsigma_nii_6549',\n",
       " u'spaxelprop.emline_gsigma_nii_6585',\n",
       " u'spaxelprop.emline_gsigma_oi_6302',\n",
       " u'spaxelprop.emline_gsigma_oi_6365',\n",
       " u'spaxelprop.emline_gsigma_oii_3727',\n",
       " u'spaxelprop.emline_gsigma_oii_3729',\n",
       " u'spaxelprop.emline_gsigma_oiid_3728',\n",
       " u'spaxelprop.emline_gsigma_oiii_4960',\n",
       " u'spaxelprop.emline_gsigma_oiii_5008',\n",
       " u'spaxelprop.emline_gsigma_sii_6718',\n",
       " u'spaxelprop.emline_gsigma_sii_6732',\n",
       " u'spaxelprop.emline_gsigma_siii_8831',\n",
       " u'spaxelprop.emline_gsigma_siii_9071',\n",
       " u'spaxelprop.emline_gsigma_siii_9533',\n",
       " u'spaxelprop.emline_gvel_ha_6564',\n",
       " u'spaxelprop.emline_gvel_hb_4862',\n",
       " u'spaxelprop.emline_gvel_hdel_4102',\n",
       " u'spaxelprop.emline_gvel_hei_5877',\n",
       " u'spaxelprop.emline_gvel_heii_4687',\n",
       " u'spaxelprop.emline_gvel_heps_3971',\n",
       " u'spaxelprop.emline_gvel_hgam_4341',\n",
       " u'spaxelprop.emline_gvel_ivar_ha_6564',\n",
       " u'spaxelprop.emline_gvel_ivar_hb_4862',\n",
       " u'spaxelprop.emline_gvel_ivar_hdel_4102',\n",
       " u'spaxelprop.emline_gvel_ivar_hei_5877',\n",
       " u'spaxelprop.emline_gvel_ivar_heii_4687',\n",
       " u'spaxelprop.emline_gvel_ivar_heps_3971',\n",
       " u'spaxelprop.emline_gvel_ivar_hgam_4341',\n",
       " u'spaxelprop.emline_gvel_ivar_nii_6549',\n",
       " u'spaxelprop.emline_gvel_ivar_nii_6585',\n",
       " u'spaxelprop.emline_gvel_ivar_oi_6302',\n",
       " u'spaxelprop.emline_gvel_ivar_oi_6365',\n",
       " u'spaxelprop.emline_gvel_ivar_oii_3727',\n",
       " u'spaxelprop.emline_gvel_ivar_oii_3729',\n",
       " u'spaxelprop.emline_gvel_ivar_oiid_3728',\n",
       " u'spaxelprop.emline_gvel_ivar_oiii_4960',\n",
       " u'spaxelprop.emline_gvel_ivar_oiii_5008',\n",
       " u'spaxelprop.emline_gvel_ivar_sii_6718',\n",
       " u'spaxelprop.emline_gvel_ivar_sii_6732',\n",
       " u'spaxelprop.emline_gvel_ivar_siii_8831',\n",
       " u'spaxelprop.emline_gvel_ivar_siii_9071',\n",
       " u'spaxelprop.emline_gvel_ivar_siii_9533',\n",
       " u'spaxelprop.emline_gvel_mask_ha_6564',\n",
       " u'spaxelprop.emline_gvel_mask_hb_4862',\n",
       " u'spaxelprop.emline_gvel_mask_hdel_4102',\n",
       " u'spaxelprop.emline_gvel_mask_hei_5877',\n",
       " u'spaxelprop.emline_gvel_mask_heii_4687',\n",
       " u'spaxelprop.emline_gvel_mask_heps_3971',\n",
       " u'spaxelprop.emline_gvel_mask_hgam_4341',\n",
       " u'spaxelprop.emline_gvel_mask_nii_6549',\n",
       " u'spaxelprop.emline_gvel_mask_nii_6585',\n",
       " u'spaxelprop.emline_gvel_mask_oi_6302',\n",
       " u'spaxelprop.emline_gvel_mask_oi_6365',\n",
       " u'spaxelprop.emline_gvel_mask_oii_3727',\n",
       " u'spaxelprop.emline_gvel_mask_oii_3729',\n",
       " u'spaxelprop.emline_gvel_mask_oiid_3728',\n",
       " u'spaxelprop.emline_gvel_mask_oiii_4960',\n",
       " u'spaxelprop.emline_gvel_mask_oiii_5008',\n",
       " u'spaxelprop.emline_gvel_mask_sii_6718',\n",
       " u'spaxelprop.emline_gvel_mask_sii_6732',\n",
       " u'spaxelprop.emline_gvel_mask_siii_8831',\n",
       " u'spaxelprop.emline_gvel_mask_siii_9071',\n",
       " u'spaxelprop.emline_gvel_mask_siii_9533',\n",
       " u'spaxelprop.emline_gvel_nii_6549',\n",
       " u'spaxelprop.emline_gvel_nii_6585',\n",
       " u'spaxelprop.emline_gvel_oi_6302',\n",
       " u'spaxelprop.emline_gvel_oi_6365',\n",
       " u'spaxelprop.emline_gvel_oii_3727',\n",
       " u'spaxelprop.emline_gvel_oii_3729',\n",
       " u'spaxelprop.emline_gvel_oiid_3728',\n",
       " u'spaxelprop.emline_gvel_oiii_4960',\n",
       " u'spaxelprop.emline_gvel_oiii_5008',\n",
       " u'spaxelprop.emline_gvel_sii_6718',\n",
       " u'spaxelprop.emline_gvel_sii_6732',\n",
       " u'spaxelprop.emline_gvel_siii_8831',\n",
       " u'spaxelprop.emline_gvel_siii_9071',\n",
       " u'spaxelprop.emline_gvel_siii_9533',\n",
       " u'spaxelprop.emline_instsigma_ha_6564',\n",
       " u'spaxelprop.emline_instsigma_hb_4862',\n",
       " u'spaxelprop.emline_instsigma_hdel_4102',\n",
       " u'spaxelprop.emline_instsigma_hei_5877',\n",
       " u'spaxelprop.emline_instsigma_heii_4687',\n",
       " u'spaxelprop.emline_instsigma_heps_3971',\n",
       " u'spaxelprop.emline_instsigma_hgam_4341',\n",
       " u'spaxelprop.emline_instsigma_nii_6549',\n",
       " u'spaxelprop.emline_instsigma_nii_6585',\n",
       " u'spaxelprop.emline_instsigma_oi_6302',\n",
       " u'spaxelprop.emline_instsigma_oi_6365',\n",
       " u'spaxelprop.emline_instsigma_oii_3727',\n",
       " u'spaxelprop.emline_instsigma_oii_3729',\n",
       " u'spaxelprop.emline_instsigma_oiid_3728',\n",
       " u'spaxelprop.emline_instsigma_oiii_4960',\n",
       " u'spaxelprop.emline_instsigma_oiii_5008',\n",
       " u'spaxelprop.emline_instsigma_sii_6718',\n",
       " u'spaxelprop.emline_instsigma_sii_6732',\n",
       " u'spaxelprop.emline_instsigma_siii_8831',\n",
       " u'spaxelprop.emline_instsigma_siii_9071',\n",
       " u'spaxelprop.emline_instsigma_siii_9533',\n",
       " u'spaxelprop.emline_sew_ha_6564',\n",
       " u'spaxelprop.emline_sew_hb_4862',\n",
       " u'spaxelprop.emline_sew_hdel_4102',\n",
       " u'spaxelprop.emline_sew_hei_5877',\n",
       " u'spaxelprop.emline_sew_heii_4687',\n",
       " u'spaxelprop.emline_sew_heps_3971',\n",
       " u'spaxelprop.emline_sew_hgam_4341',\n",
       " u'spaxelprop.emline_sew_ivar_ha_6564',\n",
       " u'spaxelprop.emline_sew_ivar_hb_4862',\n",
       " u'spaxelprop.emline_sew_ivar_hdel_4102',\n",
       " u'spaxelprop.emline_sew_ivar_hei_5877',\n",
       " u'spaxelprop.emline_sew_ivar_heii_4687',\n",
       " u'spaxelprop.emline_sew_ivar_heps_3971',\n",
       " u'spaxelprop.emline_sew_ivar_hgam_4341',\n",
       " u'spaxelprop.emline_sew_ivar_nii_6549',\n",
       " u'spaxelprop.emline_sew_ivar_nii_6585',\n",
       " u'spaxelprop.emline_sew_ivar_oi_6302',\n",
       " u'spaxelprop.emline_sew_ivar_oi_6365',\n",
       " u'spaxelprop.emline_sew_ivar_oii_3727',\n",
       " u'spaxelprop.emline_sew_ivar_oii_3729',\n",
       " u'spaxelprop.emline_sew_ivar_oiid_3728',\n",
       " u'spaxelprop.emline_sew_ivar_oiii_4960',\n",
       " u'spaxelprop.emline_sew_ivar_oiii_5008',\n",
       " u'spaxelprop.emline_sew_ivar_sii_6718',\n",
       " u'spaxelprop.emline_sew_ivar_sii_6732',\n",
       " u'spaxelprop.emline_sew_ivar_siii_8831',\n",
       " u'spaxelprop.emline_sew_ivar_siii_9071',\n",
       " u'spaxelprop.emline_sew_ivar_siii_9533',\n",
       " u'spaxelprop.emline_sew_mask_ha_6564',\n",
       " u'spaxelprop.emline_sew_mask_hb_4862',\n",
       " u'spaxelprop.emline_sew_mask_hdel_4102',\n",
       " u'spaxelprop.emline_sew_mask_hei_5877',\n",
       " u'spaxelprop.emline_sew_mask_heii_4687',\n",
       " u'spaxelprop.emline_sew_mask_heps_3971',\n",
       " u'spaxelprop.emline_sew_mask_hgam_4341',\n",
       " u'spaxelprop.emline_sew_mask_nii_6549',\n",
       " u'spaxelprop.emline_sew_mask_nii_6585',\n",
       " u'spaxelprop.emline_sew_mask_oi_6302',\n",
       " u'spaxelprop.emline_sew_mask_oi_6365',\n",
       " u'spaxelprop.emline_sew_mask_oii_3727',\n",
       " u'spaxelprop.emline_sew_mask_oii_3729',\n",
       " u'spaxelprop.emline_sew_mask_oiid_3728',\n",
       " u'spaxelprop.emline_sew_mask_oiii_4960',\n",
       " u'spaxelprop.emline_sew_mask_oiii_5008',\n",
       " u'spaxelprop.emline_sew_mask_sii_6718',\n",
       " u'spaxelprop.emline_sew_mask_sii_6732',\n",
       " u'spaxelprop.emline_sew_mask_siii_8831',\n",
       " u'spaxelprop.emline_sew_mask_siii_9071',\n",
       " u'spaxelprop.emline_sew_mask_siii_9533',\n",
       " u'spaxelprop.emline_sew_nii_6549',\n",
       " u'spaxelprop.emline_sew_nii_6585',\n",
       " u'spaxelprop.emline_sew_oi_6302',\n",
       " u'spaxelprop.emline_sew_oi_6365',\n",
       " u'spaxelprop.emline_sew_oii_3727',\n",
       " u'spaxelprop.emline_sew_oii_3729',\n",
       " u'spaxelprop.emline_sew_oiid_3728',\n",
       " u'spaxelprop.emline_sew_oiii_4960',\n",
       " u'spaxelprop.emline_sew_oiii_5008',\n",
       " u'spaxelprop.emline_sew_sii_6718',\n",
       " u'spaxelprop.emline_sew_sii_6732',\n",
       " u'spaxelprop.emline_sew_siii_8831',\n",
       " u'spaxelprop.emline_sew_siii_9071',\n",
       " u'spaxelprop.emline_sew_siii_9533',\n",
       " u'spaxelprop.emline_sflux_ha_6564',\n",
       " u'spaxelprop.emline_sflux_hb_4862',\n",
       " u'spaxelprop.emline_sflux_hdel_4102',\n",
       " u'spaxelprop.emline_sflux_hei_5877',\n",
       " u'spaxelprop.emline_sflux_heii_4687',\n",
       " u'spaxelprop.emline_sflux_heps_3971',\n",
       " u'spaxelprop.emline_sflux_hgam_4341',\n",
       " u'spaxelprop.emline_sflux_ivar_ha_6564',\n",
       " u'spaxelprop.emline_sflux_ivar_hb_4862',\n",
       " u'spaxelprop.emline_sflux_ivar_hdel_4102',\n",
       " u'spaxelprop.emline_sflux_ivar_hei_5877',\n",
       " u'spaxelprop.emline_sflux_ivar_heii_4687',\n",
       " u'spaxelprop.emline_sflux_ivar_heps_3971',\n",
       " u'spaxelprop.emline_sflux_ivar_hgam_4341',\n",
       " u'spaxelprop.emline_sflux_ivar_nii_6549',\n",
       " u'spaxelprop.emline_sflux_ivar_nii_6585',\n",
       " u'spaxelprop.emline_sflux_ivar_oi_6302',\n",
       " u'spaxelprop.emline_sflux_ivar_oi_6365',\n",
       " u'spaxelprop.emline_sflux_ivar_oii_3727',\n",
       " u'spaxelprop.emline_sflux_ivar_oii_3729',\n",
       " u'spaxelprop.emline_sflux_ivar_oiid_3728',\n",
       " u'spaxelprop.emline_sflux_ivar_oiii_4960',\n",
       " u'spaxelprop.emline_sflux_ivar_oiii_5008',\n",
       " u'spaxelprop.emline_sflux_ivar_sii_6718',\n",
       " u'spaxelprop.emline_sflux_ivar_sii_6732',\n",
       " u'spaxelprop.emline_sflux_ivar_siii_8831',\n",
       " u'spaxelprop.emline_sflux_ivar_siii_9071',\n",
       " u'spaxelprop.emline_sflux_ivar_siii_9533',\n",
       " u'spaxelprop.emline_sflux_mask_ha_6564',\n",
       " u'spaxelprop.emline_sflux_mask_hb_4862',\n",
       " u'spaxelprop.emline_sflux_mask_hdel_4102',\n",
       " u'spaxelprop.emline_sflux_mask_hei_5877',\n",
       " u'spaxelprop.emline_sflux_mask_heii_4687',\n",
       " u'spaxelprop.emline_sflux_mask_heps_3971',\n",
       " u'spaxelprop.emline_sflux_mask_hgam_4341',\n",
       " u'spaxelprop.emline_sflux_mask_nii_6549',\n",
       " u'spaxelprop.emline_sflux_mask_nii_6585',\n",
       " u'spaxelprop.emline_sflux_mask_oi_6302',\n",
       " u'spaxelprop.emline_sflux_mask_oi_6365',\n",
       " u'spaxelprop.emline_sflux_mask_oii_3727',\n",
       " u'spaxelprop.emline_sflux_mask_oii_3729',\n",
       " u'spaxelprop.emline_sflux_mask_oiid_3728',\n",
       " u'spaxelprop.emline_sflux_mask_oiii_4960',\n",
       " u'spaxelprop.emline_sflux_mask_oiii_5008',\n",
       " u'spaxelprop.emline_sflux_mask_sii_6718',\n",
       " u'spaxelprop.emline_sflux_mask_sii_6732',\n",
       " u'spaxelprop.emline_sflux_mask_siii_8831',\n",
       " u'spaxelprop.emline_sflux_mask_siii_9071',\n",
       " u'spaxelprop.emline_sflux_mask_siii_9533',\n",
       " u'spaxelprop.emline_sflux_nii_6549',\n",
       " u'spaxelprop.emline_sflux_nii_6585',\n",
       " u'spaxelprop.emline_sflux_oi_6302',\n",
       " u'spaxelprop.emline_sflux_oi_6365',\n",
       " u'spaxelprop.emline_sflux_oii_3727',\n",
       " u'spaxelprop.emline_sflux_oii_3729',\n",
       " u'spaxelprop.emline_sflux_oiid_3728',\n",
       " u'spaxelprop.emline_sflux_oiii_4960',\n",
       " u'spaxelprop.emline_sflux_oiii_5008',\n",
       " u'spaxelprop.emline_sflux_sii_6718',\n",
       " u'spaxelprop.emline_sflux_sii_6732',\n",
       " u'spaxelprop.emline_sflux_siii_8831',\n",
       " u'spaxelprop.emline_sflux_siii_9071',\n",
       " u'spaxelprop.emline_sflux_siii_9533',\n",
       " u'spaxelprop.file',\n",
       " u'spaxelprop.ha_to_hb',\n",
       " u'spaxelprop.nii_to_ha',\n",
       " u'spaxelprop.oiii_to_hb',\n",
       " u'spaxelprop.sii_to_ha',\n",
       " u'spaxelprop.spaxel_index',\n",
       " u'spaxelprop.specindex_corr_d4000',\n",
       " u'spaxelprop.specindex_corr_dn4000',\n",
       " u'spaxelprop.specindex_d4000',\n",
       " u'spaxelprop.specindex_dn4000',\n",
       " u'spaxelprop.specindex_ivar_d4000',\n",
       " u'spaxelprop.specindex_ivar_dn4000',\n",
       " u'spaxelprop.specindex_mask_d4000',\n",
       " u'spaxelprop.specindex_mask_dn4000',\n",
       " u'spaxelprop.spx_ellcoo_elliptical_azimuth',\n",
       " u'spaxelprop.spx_ellcoo_elliptical_radius',\n",
       " u'spaxelprop.spx_mflux',\n",
       " u'spaxelprop.spx_mflux_ivar',\n",
       " u'spaxelprop.spx_skycoo_on_sky_x',\n",
       " u'spaxelprop.spx_skycoo_on_sky_y',\n",
       " u'spaxelprop.spx_snr',\n",
       " u'spaxelprop.stellar_cont_fresid_68th_percentile',\n",
       " u'spaxelprop.stellar_cont_fresid_99th_percentile',\n",
       " u'spaxelprop.stellar_cont_rchi2',\n",
       " u'spaxelprop.stellar_sigma',\n",
       " u'spaxelprop.stellar_sigma_ivar',\n",
       " u'spaxelprop.stellar_sigma_mask',\n",
       " u'spaxelprop.stellar_sigmacorr',\n",
       " u'spaxelprop.stellar_vel',\n",
       " u'spaxelprop.stellar_vel_ivar',\n",
       " u'spaxelprop.stellar_vel_mask',\n",
       " u'spaxelprop.x',\n",
       " u'spaxelprop.y',\n",
       " u'structure.binmode',\n",
       " u'structure.bintype',\n",
       " u'structure.executionplan',\n",
       " u'structure.files',\n",
       " u'structure.template_kin',\n",
       " u'structure.template_pop',\n",
       " u'template.id',\n",
       " u'template.name',\n",
       " u'template.structures_kin',\n",
       " u'template.structures_pop',\n",
       " u'cart.cubes',\n",
       " u'cart.id',\n",
       " u'cube.carts',\n",
       " u'cube.dapfiles',\n",
       " u'cube.dec',\n",
       " u'cube.designid',\n",
       " u'cube.hdr',\n",
       " u'cube.headervals',\n",
       " u'cube.ifu',\n",
       " u'cube.mangaid',\n",
       " u'cube.pipelineInfo',\n",
       " u'cube.plate',\n",
       " u'cube.plateifu',\n",
       " u'cube.ra',\n",
       " u'cube.restwave',\n",
       " u'cube.rssfibers',\n",
       " u'cube.sample',\n",
       " u'cube.shape',\n",
       " u'cube.spaxels',\n",
       " u'cube.specres',\n",
       " u'cube.target',\n",
       " u'cube.wavelength',\n",
       " u'cube.wcs',\n",
       " u'cube.xfocal',\n",
       " u'cube.yfocal',\n",
       " u'cube_shape.cubes',\n",
       " u'cube_shape.indices',\n",
       " u'cube_shape.size',\n",
       " u'cube_shape.total',\n",
       " u'cube_shape.x',\n",
       " u'cube_shape.y',\n",
       " u'fiber_type.fibers',\n",
       " u'fiber_type.label',\n",
       " u'fibers.dist_mm',\n",
       " u'fibers.fiberid',\n",
       " u'fibers.fibertype',\n",
       " u'fibers.fnum',\n",
       " u'fibers.ifu',\n",
       " u'fibers.ring',\n",
       " u'fibers.rssfibers',\n",
       " u'fibers.specfibid',\n",
       " u'fibers.targettype',\n",
       " u'fibers.xpmm',\n",
       " u'fibers.ypmm',\n",
       " u'cube_header_keyword.label',\n",
       " u'cube_header_keyword.value',\n",
       " u'cube_header_value.comment',\n",
       " u'cube_header_value.cube',\n",
       " u'cube_header_value.index',\n",
       " u'cube_header_value.keyword',\n",
       " u'cube_header_value.value',\n",
       " u'ifu.blocks',\n",
       " u'ifu.cubes',\n",
       " u'ifu.fibers',\n",
       " u'ifu.maxring',\n",
       " u'ifu.name',\n",
       " u'ifu.nblocks',\n",
       " u'ifu.nfiber',\n",
       " u'ifu.nsky',\n",
       " u'ifu.specid',\n",
       " u'pipeline_completion_status.label',\n",
       " u'pipeline_completion_status.pipeinfo',\n",
       " u'pipeline_info.completionStatus',\n",
       " u'pipeline_info.cubes',\n",
       " u'pipeline_info.dapfiles',\n",
       " u'pipeline_info.name',\n",
       " u'pipeline_info.stage',\n",
       " u'pipeline_info.version',\n",
       " u'pipeline_name.label',\n",
       " u'pipeline_name.pipeinfo',\n",
       " u'pipeline_stage.label',\n",
       " u'pipeline_stage.pipeinfo',\n",
       " u'pipeline_version.pipeinfo',\n",
       " u'pipeline_version.version',\n",
       " u'rssfiber.cube',\n",
       " u'rssfiber.exposure_no',\n",
       " u'rssfiber.fiber',\n",
       " u'rssfiber.flux',\n",
       " u'rssfiber.ivar',\n",
       " u'rssfiber.mask',\n",
       " u'rssfiber.mjd',\n",
       " u'rssfiber.xpos',\n",
       " u'rssfiber.ypos',\n",
       " u'slitblock.blockid',\n",
       " u'slitblock.ifus',\n",
       " u'slitblock.nfiber',\n",
       " u'slitblock.specblockid',\n",
       " u'spaxel.cube',\n",
       " u'spaxel.flux',\n",
       " u'spaxel.ivar',\n",
       " u'spaxel.mask',\n",
       " u'spaxel.sum',\n",
       " u'spaxel.x',\n",
       " u'spaxel.y',\n",
       " u'target_type.fibers',\n",
       " u'target_type.label',\n",
       " u'wavelength.bintype',\n",
       " u'wavelength.cube',\n",
       " u'wavelength.wavelength',\n",
       " u'wcs.cd1_1',\n",
       " u'wcs.cd2_2',\n",
       " u'wcs.cd3_3',\n",
       " u'wcs.crpix1',\n",
       " u'wcs.crpix2',\n",
       " u'wcs.crpix3',\n",
       " u'wcs.crval1',\n",
       " u'wcs.crval2',\n",
       " u'wcs.crval3',\n",
       " u'wcs.ctype1',\n",
       " u'wcs.ctype2',\n",
       " u'wcs.ctype3',\n",
       " u'wcs.cube',\n",
       " u'wcs.cunit1',\n",
       " u'wcs.cunit2',\n",
       " u'wcs.cunit3',\n",
       " u'wcs.errdata',\n",
       " u'wcs.extname',\n",
       " u'wcs.hduclas1',\n",
       " u'wcs.hduclas2',\n",
       " u'wcs.hduclass',\n",
       " u'wcs.naxis1',\n",
       " u'wcs.naxis2',\n",
       " u'wcs.naxis3',\n",
       " u'wcs.qualdata',\n",
       " u'anime.anime',\n",
       " u'anime.characters',\n",
       " u'catalogue.catalogue_name',\n",
       " u'catalogue.currentCatalogue',\n",
       " u'catalogue.match_description',\n",
       " u'catalogue.matched',\n",
       " u'catalogue.version',\n",
       " u'current_catalogue.catalogue',\n",
       " u'manga_target.NSA_objects',\n",
       " u'manga_target.character',\n",
       " u'manga_target.cubes',\n",
       " u'manga_target.mangaid',\n",
       " u'nsa.aid',\n",
       " u'nsa.asymmetry',\n",
       " u'nsa.bastokes',\n",
       " u'nsa.camcol',\n",
       " u'nsa.clumpy',\n",
       " u'nsa.dec',\n",
       " u'nsa.deccat',\n",
       " u'nsa.dflags',\n",
       " u'nsa.dversion',\n",
       " u'nsa.elpetro_absmag',\n",
       " u'nsa.elpetro_amivar',\n",
       " u'nsa.elpetro_apcorr',\n",
       " u'nsa.elpetro_apcorr_r',\n",
       " u'nsa.elpetro_apcorr_self',\n",
       " u'nsa.elpetro_b1000',\n",
       " u'nsa.elpetro_b300',\n",
       " u'nsa.elpetro_ba',\n",
       " u'nsa.elpetro_colour',\n",
       " u'nsa.elpetro_flux',\n",
       " u'nsa.elpetro_flux_ivar',\n",
       " u'nsa.elpetro_flux_ivar_r',\n",
       " u'nsa.elpetro_flux_r',\n",
       " u'nsa.elpetro_kcoeff',\n",
       " u'nsa.elpetro_kcorrect',\n",
       " u'nsa.elpetro_logmass',\n",
       " u'nsa.elpetro_mag_g',\n",
       " u'nsa.elpetro_mag_g_i',\n",
       " u'nsa.elpetro_mag_g_r',\n",
       " u'nsa.elpetro_mag_g_z',\n",
       " u'nsa.elpetro_mag_i',\n",
       " u'nsa.elpetro_mag_i_z',\n",
       " u'nsa.elpetro_mag_r',\n",
       " u'nsa.elpetro_mag_r_i',\n",
       " u'nsa.elpetro_mag_r_z',\n",
       " u'nsa.elpetro_mag_u',\n",
       " u'nsa.elpetro_mag_u_g',\n",
       " u'nsa.elpetro_mag_u_i',\n",
       " u'nsa.elpetro_mag_u_r',\n",
       " u'nsa.elpetro_mag_u_z',\n",
       " u'nsa.elpetro_mag_z',\n",
       " u'nsa.elpetro_mass',\n",
       " u'nsa.elpetro_mets',\n",
       " u'nsa.elpetro_mtol',\n",
       " u'nsa.elpetro_nmgy',\n",
       " u'nsa.elpetro_nmgy_ivar',\n",
       " u'nsa.elpetro_ok',\n",
       " u'nsa.elpetro_phi',\n",
       " u'nsa.elpetro_rnmgy',\n",
       " u'nsa.elpetro_th50',\n",
       " u'nsa.elpetro_th50_r',\n",
       " u'nsa.elpetro_th90',\n",
       " u'nsa.elpetro_th90_r',\n",
       " u'nsa.elpetro_theta',\n",
       " u'nsa.elpetro_theta_r',\n",
       " u'nsa.extinction',\n",
       " u'nsa.fiber_flux',\n",
       " u'nsa.fiber_flux_ivar',\n",
       " u'nsa.fiberid',\n",
       " u'nsa.field',\n",
       " u'nsa.ialfalfa',\n",
       " u'nsa.iauname',\n",
       " u'nsa.in_dr7_lss',\n",
       " u'nsa.ined',\n",
       " u'nsa.isdss',\n",
       " u'nsa.isixdf',\n",
       " u'nsa.itwodf',\n",
       " u'nsa.izcat',\n",
       " u'nsa.mag',\n",
       " u'nsa.mangaTargets',\n",
       " u'nsa.mjd',\n",
       " u'nsa.nprof',\n",
       " u'nsa.nsaid',\n",
       " u'nsa.petro_ba50',\n",
       " u'nsa.petro_ba90',\n",
       " u'nsa.petro_flux',\n",
       " u'nsa.petro_flux_ivar',\n",
       " u'nsa.petro_phi50',\n",
       " u'nsa.petro_phi90',\n",
       " u'nsa.petro_th50',\n",
       " u'nsa.petro_th90',\n",
       " u'nsa.petro_theta',\n",
       " u'nsa.phistokes',\n",
       " u'nsa.pid',\n",
       " u'nsa.plate',\n",
       " u'nsa.platequality',\n",
       " u'nsa.plug_dec',\n",
       " u'nsa.plug_ra',\n",
       " u'nsa.profmean',\n",
       " u'nsa.profmean_ivar',\n",
       " u'nsa.proftheta',\n",
       " u'nsa.programname',\n",
       " u'nsa.qstokes',\n",
       " u'nsa.ra',\n",
       " u'nsa.racat',\n",
       " u'nsa.rerun',\n",
       " u'nsa.run',\n",
       " u'nsa.sersic_absmag',\n",
       " u'nsa.sersic_amivar',\n",
       " u'nsa.sersic_b1000',\n",
       " u'nsa.sersic_b300',\n",
       " u'nsa.sersic_ba',\n",
       " u'nsa.sersic_flux',\n",
       " u'nsa.sersic_flux_ivar',\n",
       " u'nsa.sersic_kcoeff',\n",
       " u'nsa.sersic_kcorrect',\n",
       " u'nsa.sersic_logmass',\n",
       " u'nsa.sersic_mass',\n",
       " u'nsa.sersic_mets',\n",
       " u'nsa.sersic_mtol',\n",
       " u'nsa.sersic_n',\n",
       " u'nsa.sersic_nmgy',\n",
       " u'nsa.sersic_nmgy_ivar',\n",
       " u'nsa.sersic_ok',\n",
       " u'nsa.sersic_phi',\n",
       " u'nsa.sersic_rnmgy',\n",
       " u'nsa.sersic_th50',\n",
       " u'nsa.size',\n",
       " u'nsa.subdir',\n",
       " u'nsa.survey',\n",
       " u'nsa.tile',\n",
       " u'nsa.ustokes',\n",
       " u'nsa.xcen',\n",
       " u'nsa.xpos',\n",
       " u'nsa.ycen',\n",
       " u'nsa.ypos',\n",
       " u'nsa.z',\n",
       " u'nsa.zdist',\n",
       " u'nsa.zsdssline',\n",
       " u'nsa.zsrc']"
      ]
     },
     "execution_count": 4,
     "metadata": {},
     "output_type": "execute_result"
    }
   ],
   "source": [
    "# retrieve the list\n",
    "allparams = q.get_available_params()\n",
    "allparams"
   ]
  },
  {
   "cell_type": "markdown",
   "metadata": {},
   "source": [
    "## Additional Query and Results Functionality\n",
    "* Save and Restore your Queries and Results similar to the other Marvin Tools\n",
    "* Download query results\n",
    "* For large results, page through them or grab a subset\n",
    "* Extract parameters from your results as Python lists or dictionaries\n",
    "* Sort your results by a given parameter\n",
    "* Convert results to other formats: Marvin Objects, Astropy Table, FITS, JSON, Pandas Dataframe"
   ]
  },
  {
   "cell_type": "markdown",
   "metadata": {},
   "source": [
    "# Web\n",
    "Now let's play around with the web.  Go to https://sas.sdss.org/marvin2\n",
    "\n",
    "## Main page\n",
    "* There are helpful links to documentation, source code, and general information. \n",
    "* Select the **Release** you want to work with. Tested only MPL-4 and 5.  Set it to **MPL-5**\n",
    "* Use the input **Plate/Galaxy ID** search box to find plates or galaxies. \n",
    "\n",
    "## Search page\n",
    "* Here is where you can search using the same syntax has Marvin Queries: **try one of the queries we ran above**\n",
    "* Search for parameters using the input boxes on the left.  One - dropdown list.  Two - autocomplete typing list\n",
    "* Returns a table of results\n",
    "\n",
    "## Plate page\n",
    "* Go to plate **8485**.  The page loads with some basic plate meta-data and the set of galaxies observed on that plate. \n",
    "\n",
    "\n",
    "## Galaxy page\n",
    "* Go to the page for **8485-1901**.  The page loads with some basic meta-data.  \n",
    "* **Quality** and **Target** bits and flags.  Hover over the Flags to see a pop-up of the bitmask labels. \n",
    "    * **Green** - good science data\n",
    "    * **Yellow** - warning some issues\n",
    "    * **Red** - critical, do not use\n",
    "* Toggle the **Map/Spectrum** display.  After some load time, you should see an interactive spectrum and maps.\n",
    "* Mouse drag around in the spectrum display\n",
    "* Click in the optical image to display that spaxel\n",
    "* See the MAPS.  Click on a spaxel in any of the maps to display it in the spectrum viewer.  \n",
    "* Try choosing 3 new maps to look at.\n",
    "* Try changing the binning scheme for those maps.\n",
    "    \n",
    "## Image Roulette page\n",
    "* This page shows a random sample of MaNGA galaxies.  Click to enjoy.   "
   ]
  },
  {
   "cell_type": "code",
   "execution_count": null,
   "metadata": {
    "collapsed": true
   },
   "outputs": [],
   "source": []
  }
 ],
 "metadata": {
  "anaconda-cloud": {},
  "kernelspec": {
   "display_name": "Python 2",
   "language": "python",
   "name": "python2"
  },
  "language_info": {
   "codemirror_mode": {
    "name": "ipython",
    "version": 3
   },
   "file_extension": ".py",
   "mimetype": "text/x-python",
   "name": "python",
   "nbconvert_exporter": "python",
   "pygments_lexer": "ipython3",
   "version": "3.6.4"
  }
 },
 "nbformat": 4,
 "nbformat_minor": 1
}
