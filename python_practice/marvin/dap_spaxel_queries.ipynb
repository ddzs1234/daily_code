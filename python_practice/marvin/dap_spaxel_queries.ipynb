{
 "cells": [
  {
   "cell_type": "markdown",
   "metadata": {},
   "source": [
    "# DAP Zonal Queries (or Spaxel Queries)\n",
    "Marvin allows you to perform queries on individual spaxels within and across the MaNGA dataset.   "
   ]
  },
  {
   "cell_type": "code",
   "execution_count": 20,
   "metadata": {
    "collapsed": false
   },
   "outputs": [],
   "source": [
    "from marvin import config\n",
    "from marvin.tools.query import Query\n",
    "config.mode='remote'"
   ]
  },
  {
   "cell_type": "markdown",
   "metadata": {},
   "source": [
    "Let's grab all spaxels with an Ha-flux > 25 from MPL-5.  "
   ]
  },
  {
   "cell_type": "code",
   "execution_count": 2,
   "metadata": {
    "collapsed": false
   },
   "outputs": [
    {
     "name": "stdout",
     "output_type": "stream",
     "text": [
      "WARNING: class ArrayOps not Formable\n",
      "WARNING: class Character not Formable\n",
      "WARNING: class Plate not Formable\n",
      "Your parsed filter is: \n",
      "emline_gflux_ha_6564>25\n",
      "Marvin Query(mode='remote', limit=100, sort=None, order='asc')\n"
     ]
    }
   ],
   "source": [
    "config.setRelease('MPL-5')\n",
    "f = 'emline_gflux_ha_6564 > 25'\n",
    "q = Query(searchfilter=f)\n",
    "print(q)"
   ]
  },
  {
   "cell_type": "code",
   "execution_count": 5,
   "metadata": {
    "collapsed": false
   },
   "outputs": [
    {
     "name": "stdout",
     "output_type": "stream",
     "text": [
      "Results contain of a total of 18, only returning the first 18 results\n"
     ]
    }
   ],
   "source": [
    "# let's run the query\n",
    "r = q.run()"
   ]
  },
  {
   "cell_type": "code",
   "execution_count": 6,
   "metadata": {
    "collapsed": false
   },
   "outputs": [
    {
     "data": {
      "text/plain": [
       "[NamedTuple(mangaid=u'1-209232', plate=8485, plateifu=u'8485-1901', name=u'1901', emline_gflux_ha_6564=26.3961, x=16, y=16),\n",
       " NamedTuple(mangaid=u'1-209232', plate=8485, plateifu=u'8485-1901', name=u'1901', emline_gflux_ha_6564=28.3759, x=16, y=17),\n",
       " NamedTuple(mangaid=u'1-209232', plate=8485, plateifu=u'8485-1901', name=u'1901', emline_gflux_ha_6564=25.651, x=16, y=18),\n",
       " NamedTuple(mangaid=u'1-209232', plate=8485, plateifu=u'8485-1901', name=u'1901', emline_gflux_ha_6564=30.3718, x=17, y=16),\n",
       " NamedTuple(mangaid=u'1-209232', plate=8485, plateifu=u'8485-1901', name=u'1901', emline_gflux_ha_6564=31.4754, x=17, y=17),\n",
       " NamedTuple(mangaid=u'1-209232', plate=8485, plateifu=u'8485-1901', name=u'1901', emline_gflux_ha_6564=28.3923, x=17, y=18),\n",
       " NamedTuple(mangaid=u'1-209232', plate=8485, plateifu=u'8485-1901', name=u'1901', emline_gflux_ha_6564=27.7081, x=18, y=16),\n",
       " NamedTuple(mangaid=u'1-209232', plate=8485, plateifu=u'8485-1901', name=u'1901', emline_gflux_ha_6564=28.2909, x=18, y=17),\n",
       " NamedTuple(mangaid=u'1-209232', plate=8485, plateifu=u'8485-1901', name=u'1901', emline_gflux_ha_6564=25.4768, x=18, y=18),\n",
       " NamedTuple(mangaid=u'1-209232', plate=8485, plateifu=u'8485-1901', name=u'1901', emline_gflux_ha_6564=26.4124, x=16, y=16),\n",
       " NamedTuple(mangaid=u'1-209232', plate=8485, plateifu=u'8485-1901', name=u'1901', emline_gflux_ha_6564=28.3806, x=16, y=17),\n",
       " NamedTuple(mangaid=u'1-209232', plate=8485, plateifu=u'8485-1901', name=u'1901', emline_gflux_ha_6564=25.6566, x=16, y=18),\n",
       " NamedTuple(mangaid=u'1-209232', plate=8485, plateifu=u'8485-1901', name=u'1901', emline_gflux_ha_6564=30.4327, x=17, y=16),\n",
       " NamedTuple(mangaid=u'1-209232', plate=8485, plateifu=u'8485-1901', name=u'1901', emline_gflux_ha_6564=31.4792, x=17, y=17),\n",
       " NamedTuple(mangaid=u'1-209232', plate=8485, plateifu=u'8485-1901', name=u'1901', emline_gflux_ha_6564=28.3875, x=17, y=18),\n",
       " NamedTuple(mangaid=u'1-209232', plate=8485, plateifu=u'8485-1901', name=u'1901', emline_gflux_ha_6564=27.7607, x=18, y=16),\n",
       " NamedTuple(mangaid=u'1-209232', plate=8485, plateifu=u'8485-1901', name=u'1901', emline_gflux_ha_6564=28.3337, x=18, y=17),\n",
       " NamedTuple(mangaid=u'1-209232', plate=8485, plateifu=u'8485-1901', name=u'1901', emline_gflux_ha_6564=25.4602, x=18, y=18)]"
      ]
     },
     "execution_count": 6,
     "metadata": {},
     "output_type": "execute_result"
    }
   ],
   "source": [
    "r.totalcount\n",
    "r.results"
   ]
  },
  {
   "cell_type": "markdown",
   "metadata": {},
   "source": [
    "Spaxel queries are queries on individual spaxels, and thus will always return a spaxel x and y satisfying your input condition.  There is the potential of returning a large number of results that span only a few actual galaxies.  Let's see how many..  "
   ]
  },
  {
   "cell_type": "code",
   "execution_count": 7,
   "metadata": {
    "collapsed": false
   },
   "outputs": [
    {
     "name": "stdout",
     "output_type": "stream",
     "text": [
      "('unique galaxies', set([u'8485-1901']), 1)\n"
     ]
    }
   ],
   "source": [
    "# get a list of the plate-ifus\n",
    "plateifu = r.getListOf('plateifu')\n",
    "# look at the unique values with Python set\n",
    "print('unique galaxies', set(plateifu), len(set(plateifu)))"
   ]
  },
  {
   "cell_type": "markdown",
   "metadata": {},
   "source": [
    "# Optimize your query\n",
    "Unless specified, spaxel queries will query across all bintypes and stellar templates.  If you only want to search over a certain binning mode, this must be specified.  If your query is taking too long, or returning too many results, consider filtering on a specific bintype and template."
   ]
  },
  {
   "cell_type": "code",
   "execution_count": 8,
   "metadata": {
    "collapsed": false
   },
   "outputs": [
    {
     "name": "stdout",
     "output_type": "stream",
     "text": [
      "Your parsed filter is: \n",
      "and_(emline_gflux_ha_6564>25, bintype.name==SPX)\n",
      "Marvin Query(mode='remote', limit=100, sort=None, order='asc')\n",
      "Results contain of a total of 9, only returning the first 9 results\n"
     ]
    }
   ],
   "source": [
    "f = 'emline_gflux_ha_6564 > 25 and bintype.name == SPX'\n",
    "q = Query(searchfilter=f, returnparams=['template.name'])\n",
    "print(q)\n",
    "\n",
    "# run it\n",
    "r = q.run()"
   ]
  },
  {
   "cell_type": "code",
   "execution_count": 9,
   "metadata": {
    "collapsed": false
   },
   "outputs": [
    {
     "data": {
      "text/plain": [
       "[NamedTuple(mangaid=u'1-209232', plate=8485, plateifu=u'8485-1901', ifu_name=u'1901', template_name=u'GAU-MILESHC', bintype_name=u'SPX', emline_gflux_ha_6564=26.3961, x=16, y=16),\n",
       " NamedTuple(mangaid=u'1-209232', plate=8485, plateifu=u'8485-1901', ifu_name=u'1901', template_name=u'GAU-MILESHC', bintype_name=u'SPX', emline_gflux_ha_6564=28.3759, x=16, y=17),\n",
       " NamedTuple(mangaid=u'1-209232', plate=8485, plateifu=u'8485-1901', ifu_name=u'1901', template_name=u'GAU-MILESHC', bintype_name=u'SPX', emline_gflux_ha_6564=25.651, x=16, y=18),\n",
       " NamedTuple(mangaid=u'1-209232', plate=8485, plateifu=u'8485-1901', ifu_name=u'1901', template_name=u'GAU-MILESHC', bintype_name=u'SPX', emline_gflux_ha_6564=30.3718, x=17, y=16),\n",
       " NamedTuple(mangaid=u'1-209232', plate=8485, plateifu=u'8485-1901', ifu_name=u'1901', template_name=u'GAU-MILESHC', bintype_name=u'SPX', emline_gflux_ha_6564=31.4754, x=17, y=17),\n",
       " NamedTuple(mangaid=u'1-209232', plate=8485, plateifu=u'8485-1901', ifu_name=u'1901', template_name=u'GAU-MILESHC', bintype_name=u'SPX', emline_gflux_ha_6564=28.3923, x=17, y=18),\n",
       " NamedTuple(mangaid=u'1-209232', plate=8485, plateifu=u'8485-1901', ifu_name=u'1901', template_name=u'GAU-MILESHC', bintype_name=u'SPX', emline_gflux_ha_6564=27.7081, x=18, y=16),\n",
       " NamedTuple(mangaid=u'1-209232', plate=8485, plateifu=u'8485-1901', ifu_name=u'1901', template_name=u'GAU-MILESHC', bintype_name=u'SPX', emline_gflux_ha_6564=28.2909, x=18, y=17),\n",
       " NamedTuple(mangaid=u'1-209232', plate=8485, plateifu=u'8485-1901', ifu_name=u'1901', template_name=u'GAU-MILESHC', bintype_name=u'SPX', emline_gflux_ha_6564=25.4768, x=18, y=18)]"
      ]
     },
     "execution_count": 9,
     "metadata": {},
     "output_type": "execute_result"
    }
   ],
   "source": [
    "r.results"
   ]
  },
  {
   "cell_type": "markdown",
   "metadata": {},
   "source": [
    "# Global+Local Queries\n",
    "To combine global and local searches, simply combine them together in one filter condition.  Let's look for all spaxels that have an H-alpha EW > 3 in galaxies with NSA redshift < 0.1 and a log sersic_mass > 9.5 "
   ]
  },
  {
   "cell_type": "code",
   "execution_count": 10,
   "metadata": {
    "collapsed": false
   },
   "outputs": [
    {
     "name": "stdout",
     "output_type": "stream",
     "text": [
      "Your parsed filter is: \n",
      "and_(nsa.sersic_logmass>9.5, nsa.z<0.1, emline_sew_ha_6564>3)\n",
      "Marvin Query(mode='remote', limit=100, sort=None, order='asc')\n"
     ]
    }
   ],
   "source": [
    "f = 'nsa.sersic_logmass > 9.5 and nsa.z < 0.1 and emline_sew_ha_6564 > 3'\n",
    "q = Query(searchfilter=f)\n",
    "print(q)"
   ]
  },
  {
   "cell_type": "code",
   "execution_count": 11,
   "metadata": {
    "collapsed": false
   },
   "outputs": [
    {
     "name": "stdout",
     "output_type": "stream",
     "text": [
      "Results contain of a total of 1207, only returning the first 100 results\n"
     ]
    }
   ],
   "source": [
    "r = q.run()"
   ]
  },
  {
   "cell_type": "code",
   "execution_count": 12,
   "metadata": {
    "collapsed": false
   },
   "outputs": [
    {
     "name": "stdout",
     "output_type": "stream",
     "text": [
      "('spaxels returned', 1207)\n",
      "('from galaxies', 1)\n"
     ]
    }
   ],
   "source": [
    "# Let's see how many spaxels we returned from how many galaxies\n",
    "plateifu = r.getListOf('plateifu')\n",
    "print('spaxels returned', r.totalcount)\n",
    "print('from galaxies', len(set(plateifu)))"
   ]
  },
  {
   "cell_type": "code",
   "execution_count": 13,
   "metadata": {
    "collapsed": false
   },
   "outputs": [
    {
     "data": {
      "text/plain": [
       "[NamedTuple(mangaid=u'1-209232', plate=8485, plateifu=u'8485-1901', name=u'1901', emline_sew_ha_6564=24.1401832278, sersic_logmass=9.62934996005489, z=0.0407446920871735, x=6, y=15),\n",
       " NamedTuple(mangaid=u'1-209232', plate=8485, plateifu=u'8485-1901', name=u'1901', emline_sew_ha_6564=24.1401832278, sersic_logmass=9.62934996005489, z=0.0407446920871735, x=6, y=16),\n",
       " NamedTuple(mangaid=u'1-209232', plate=8485, plateifu=u'8485-1901', name=u'1901', emline_sew_ha_6564=24.1401832278, sersic_logmass=9.62934996005489, z=0.0407446920871735, x=6, y=17),\n",
       " NamedTuple(mangaid=u'1-209232', plate=8485, plateifu=u'8485-1901', name=u'1901', emline_sew_ha_6564=24.1401832278, sersic_logmass=9.62934996005489, z=0.0407446920871735, x=6, y=18),\n",
       " NamedTuple(mangaid=u'1-209232', plate=8485, plateifu=u'8485-1901', name=u'1901', emline_sew_ha_6564=24.1401832278, sersic_logmass=9.62934996005489, z=0.0407446920871735, x=6, y=19)]"
      ]
     },
     "execution_count": 13,
     "metadata": {},
     "output_type": "execute_result"
    }
   ],
   "source": [
    "r.results[0:5]"
   ]
  },
  {
   "cell_type": "markdown",
   "metadata": {},
   "source": [
    "# Query Functions\n",
    "Marvin also contains more advanced queries in the form of predefined functions. \n",
    "For example, let's say you want to ask Marvin\n",
    "\n",
    "\"Give me all galaxies that have an H-alpha flux > 25 in more than 20% of their good spaxels\"\n",
    "\n",
    "you can do so using the query function **npergood**.  **npergood** accepts as input a standard filter expression condition. E.g., the syntax for the above query would be input as \n",
    "\n",
    "npergood(emline_gflux_ha_6564 > 25) >= 20\n",
    "\n",
    "The syntax is \n",
    "\n",
    "FUNCTION(Conditional Expression) Operator Value\n",
    "\n",
    "Let's try it..."
   ]
  },
  {
   "cell_type": "code",
   "execution_count": 17,
   "metadata": {
    "collapsed": false
   },
   "outputs": [
    {
     "name": "stdout",
     "output_type": "stream",
     "text": [
      "Your parsed filter is: \n",
      "npergood(emline_gflux_ha_6564>5)>=20\n",
      "Results contain of a total of 8, only returning the first 8 results\n"
     ]
    }
   ],
   "source": [
    "config.mode='remote'\n",
    "config.setRelease('MPL-4')\n",
    "f = 'npergood(emline_gflux_ha_6564 > 5) >= 20'\n",
    "q = Query(searchfilter=f)\n",
    "r = q.run()"
   ]
  },
  {
   "cell_type": "code",
   "execution_count": 18,
   "metadata": {
    "collapsed": false
   },
   "outputs": [
    {
     "data": {
      "text/plain": [
       "[NamedTuple(mangaid=u'1-114303', plate=7975, plateifu=u'7975-1901', name=u'1901'),\n",
       " NamedTuple(mangaid=u'1-277339', plate=8254, plateifu=u'8254-1901', name=u'1901'),\n",
       " NamedTuple(mangaid=u'1-209729', plate=8549, plateifu=u'8549-1901', name=u'1901'),\n",
       " NamedTuple(mangaid=u'1-137890', plate=8249, plateifu=u'8249-1901', name=u'1901'),\n",
       " NamedTuple(mangaid=u'1-24092', plate=7991, plateifu=u'7991-1901', name=u'1901'),\n",
       " NamedTuple(mangaid=u'12-84620', plate=7443, plateifu=u'7443-1901', name=u'1901'),\n",
       " NamedTuple(mangaid=u'1-22438', plate=7992, plateifu=u'7992-1901', name=u'1901'),\n",
       " NamedTuple(mangaid=u'1-277213', plate=8258, plateifu=u'8258-1901', name=u'1901')]"
      ]
     },
     "execution_count": 18,
     "metadata": {},
     "output_type": "execute_result"
    }
   ],
   "source": [
    "r.results"
   ]
  },
  {
   "cell_type": "code",
   "execution_count": null,
   "metadata": {
    "collapsed": false
   },
   "outputs": [],
   "source": []
  },
  {
   "cell_type": "code",
   "execution_count": null,
   "metadata": {
    "collapsed": false
   },
   "outputs": [],
   "source": []
  },
  {
   "cell_type": "code",
   "execution_count": null,
   "metadata": {
    "collapsed": false
   },
   "outputs": [],
   "source": []
  },
  {
   "cell_type": "code",
   "execution_count": null,
   "metadata": {
    "collapsed": false
   },
   "outputs": [],
   "source": []
  },
  {
   "cell_type": "code",
   "execution_count": null,
   "metadata": {
    "collapsed": false
   },
   "outputs": [],
   "source": []
  },
  {
   "cell_type": "code",
   "execution_count": null,
   "metadata": {
    "collapsed": true
   },
   "outputs": [],
   "source": []
  }
 ],
 "metadata": {
  "anaconda-cloud": {},
  "kernelspec": {
   "display_name": "Python [conda root]",
   "language": "python",
   "name": "conda-root-py"
  },
  "language_info": {
   "codemirror_mode": {
    "name": "ipython",
    "version": 2
   },
   "file_extension": ".py",
   "mimetype": "text/x-python",
   "name": "python",
   "nbconvert_exporter": "python",
   "pygments_lexer": "ipython2",
   "version": "2.7.12"
  }
 },
 "nbformat": 4,
 "nbformat_minor": 1
}
