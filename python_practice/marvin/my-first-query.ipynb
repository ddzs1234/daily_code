{
 "cells": [
  {
   "cell_type": "markdown",
   "metadata": {},
   "source": [
    "# My First Query\n",
    "\n",
    "One of the most powerful features of Marvin 2.0 is ability to query the newly created DRP and DAP databases. You can do this in two ways:\n",
    "1. via the **[Marvin-web Search page](https://sas.sdss.org/marvin2/search/)** or\n",
    "2. via Python (in the terminal/notebook/script) with **Marvin-tools**.\n",
    "\n",
    "The best part is that both interfaces use the same underlying query structure, so your input search will be the same. Here we will run a few queries with Marvin-tools to learn the basics of how to construct a query and also test drive some of the more advanced features that are unique to the Marvin-tools version of querying."
   ]
  },
  {
   "cell_type": "code",
   "execution_count": 1,
   "metadata": {
    "collapsed": true
   },
   "outputs": [],
   "source": [
    "# Python 2/3 compatibility\n",
    "from __future__ import print_function, division, absolute_import"
   ]
  },
  {
   "cell_type": "code",
   "execution_count": 2,
   "metadata": {
    "collapsed": false
   },
   "outputs": [
    {
     "name": "stderr",
     "output_type": "stream",
     "text": [
      ":0: UserWarning: You do not have a working installation of the service_identity module: 'No module named attr'.  Please install it from <https://pypi.python.org/pypi/service_identity> and make sure all of its dependencies are satisfied.  Without the service_identity module, Twisted can perform only rudimentary TLS client hostname verification.  Many valid certificate/hostname mappings may be rejected.\n"
     ]
    },
    {
     "name": "stdout",
     "output_type": "stream",
     "text": [
      "INFO: No release version set. Setting default to MPL-6\n"
     ]
    }
   ],
   "source": [
    "from marvin import config\n",
    "config.setRelease('MPL-4')"
   ]
  },
  {
   "cell_type": "code",
   "execution_count": 3,
   "metadata": {
    "collapsed": false
   },
   "outputs": [
    {
     "name": "stdout",
     "output_type": "stream",
     "text": [
      "WARNING: class ArrayOps not Formable\n",
      "WARNING: class Character not Formable\n",
      "WARNING: class Plate not Formable\n"
     ]
    }
   ],
   "source": [
    "from marvin.tools.query import Query"
   ]
  },
  {
   "cell_type": "markdown",
   "metadata": {},
   "source": [
    "Let's search for galaxies with M$_\\star$ > 3 $\\times$ 10$^{11}$ M$_\\odot$.\n",
    "\n",
    "To specify our search parameter, M$_\\star$, we must know the database table and name of the parameter. In this case, MaNGA uses the NASA-Sloan Atlas (NSA) for target selection so we will use the Sersic profile determination for stellar mass, which is the **`sersic_mass`** parameter of the **`nsa`** table, so our search parameter will be **`nsa.sersic_mass`**.  You can also use **`nsa.sersic_logmass`**\n",
    "\n",
    "Generically, the search parameter will take the form **`table.parameter`**."
   ]
  },
  {
   "cell_type": "code",
   "execution_count": 4,
   "metadata": {
    "collapsed": true
   },
   "outputs": [],
   "source": [
    "myquery1 = 'nsa.sersic_mass > 3e11'\n",
    "# or\n",
    "myquery1 = 'nsa.sersic_logmass > 11.47'"
   ]
  },
  {
   "cell_type": "code",
   "execution_count": 5,
   "metadata": {
    "collapsed": false,
    "scrolled": false
   },
   "outputs": [
    {
     "name": "stdout",
     "output_type": "stream",
     "text": [
      "Your parsed filter is: \n",
      "nsa.sersic_logmass>11.47\n"
     ]
    }
   ],
   "source": [
    "q1 = Query(searchfilter=myquery1)\n",
    "r1 = q1.run()"
   ]
  },
  {
   "cell_type": "markdown",
   "metadata": {},
   "source": [
    "Running the query produces a **`Results`** object (**`r1`**):"
   ]
  },
  {
   "cell_type": "code",
   "execution_count": 6,
   "metadata": {
    "collapsed": false
   },
   "outputs": [
    {
     "data": {
      "text/plain": [
       "<ResultSet(set=1/1, index=0:9, count_in_set=9, total=9)>\n",
       "[ResultRow(mangaid=u'1-134760', plate=8555, plateifu=u'8555-12701', ifu_name=u'12701', sersic_logmass=11.7491099236116),\n",
       " ResultRow(mangaid=u'1-377841', plate=8133, plateifu=u'8133-12705', ifu_name=u'12705', sersic_logmass=11.5011565223301),\n",
       " ResultRow(mangaid=u'1-278075', plate=8257, plateifu=u'8257-6104', ifu_name=u'6104', sersic_logmass=11.5671758130693),\n",
       " ResultRow(mangaid=u'1-256301', plate=8258, plateifu=u'8258-9102', ifu_name=u'9102', sersic_logmass=12.8522847612299),\n",
       " ResultRow(mangaid=u'1-276590', plate=8254, plateifu=u'8254-6103', ifu_name=u'6103', sersic_logmass=11.4709056630131),\n",
       " ResultRow(mangaid=u'1-217041', plate=8247, plateifu=u'8247-9102', ifu_name=u'9102', sersic_logmass=11.5166583074443),\n",
       " ResultRow(mangaid=u'1-338090', plate=8131, plateifu=u'8131-3701', ifu_name=u'3701', sersic_logmass=12.060916820615),\n",
       " ResultRow(mangaid=u'1-377378', plate=8132, plateifu=u'8132-6102', ifu_name=u'6102', sersic_logmass=11.7106038748227),\n",
       " ResultRow(mangaid=u'1-283711', plate=8317, plateifu=u'8317-1901', ifu_name=u'1901', sersic_logmass=12.4115877218585)]"
      ]
     },
     "execution_count": 6,
     "metadata": {},
     "output_type": "execute_result"
    }
   ],
   "source": [
    "# show results\n",
    "r1.results"
   ]
  },
  {
   "cell_type": "markdown",
   "metadata": {},
   "source": [
    "We will learn how to use the features of our **`Results`** object a little bit later, but first let's revise our search to see how more complex search queries work.\n",
    "\n",
    "## Multiple Search Criteria\n",
    "\n",
    "Let's add to our search to find only galaxies with a redshift less than 0.1.\n",
    "\n",
    "Redshift is the **`z`** parameter and is also in the **`nsa`** table, so its full search parameter designation is **`nsa.z`**."
   ]
  },
  {
   "cell_type": "code",
   "execution_count": 7,
   "metadata": {
    "collapsed": true
   },
   "outputs": [],
   "source": [
    "myquery2 = 'nsa.sersic_mass > 3e11 AND nsa.z < 0.1'"
   ]
  },
  {
   "cell_type": "code",
   "execution_count": 8,
   "metadata": {
    "collapsed": false,
    "scrolled": true
   },
   "outputs": [
    {
     "name": "stdout",
     "output_type": "stream",
     "text": [
      "Your parsed filter is: \n",
      "and_(nsa.sersic_mass>3e11, nsa.z<0.1)\n"
     ]
    }
   ],
   "source": [
    "q2 = Query(searchfilter=myquery2)\n",
    "r2 = q2.run()"
   ]
  },
  {
   "cell_type": "code",
   "execution_count": 9,
   "metadata": {
    "collapsed": false,
    "scrolled": true
   },
   "outputs": [
    {
     "data": {
      "text/plain": [
       "<ResultSet(set=1/1, index=0:4, count_in_set=4, total=4)>\n",
       "[ResultRow(mangaid=u'1-256301', plate=8258, plateifu=u'8258-9102', ifu_name=u'9102', z=0.0961407, sersic_mass=7116800000000.0),\n",
       " ResultRow(mangaid=u'1-338090', plate=8131, plateifu=u'8131-3701', ifu_name=u'3701', z=0.0806724, sersic_mass=1150580000000.0),\n",
       " ResultRow(mangaid=u'1-377378', plate=8132, plateifu=u'8132-6102', ifu_name=u'6102', z=0.0265521, sersic_mass=513575000000.0),\n",
       " ResultRow(mangaid=u'1-283711', plate=8317, plateifu=u'8317-1901', ifu_name=u'1901', z=0.094444, sersic_mass=2579810000000.0)]"
      ]
     },
     "execution_count": 9,
     "metadata": {},
     "output_type": "execute_result"
    }
   ],
   "source": [
    "r2.results"
   ]
  },
  {
   "cell_type": "markdown",
   "metadata": {},
   "source": [
    "## Compound Search Statements\n",
    "\n",
    "We were hoping for a few more than 3 galaxies, so let's try to increase our search by broadening the criteria to also include galaxies with 127 fiber IFUs and a b/a ratio of at least 0.95.\n",
    "\n",
    "To find 127 fiber IFUs, we'll use the **`name`** parameter of the **`ifu`** table, which means the full search parameter is **`ifu.name`**. However, **`ifu.name`** returns the IFU design name, such as `12701`, so we need to to set the value to `127*`.\n",
    "\n",
    "The b/a ratio is in **`nsa`** table as the **`elpetro_ba`** parameter.\n",
    "\n",
    "We're also going to join this to or previous query with an **`OR`** operator and use parentheses to group our individual search statements into a compound search statement."
   ]
  },
  {
   "cell_type": "code",
   "execution_count": 13,
   "metadata": {
    "collapsed": true
   },
   "outputs": [],
   "source": [
    "myquery3 = '(nsa.sersic_mass > 3e11 AND nsa.z < 0.1) OR (ifu.name=127* AND nsa.elpetro_ba >= 0.95)'"
   ]
  },
  {
   "cell_type": "code",
   "execution_count": 14,
   "metadata": {
    "collapsed": false,
    "scrolled": true
   },
   "outputs": [
    {
     "name": "stdout",
     "output_type": "stream",
     "text": [
      "Your parsed filter is: \n",
      "or_(and_(nsa.sersic_mass>3e11, nsa.z<0.1), and_(ifu.name=127*, nsa.elpetro_ba>=0.95))\n"
     ]
    }
   ],
   "source": [
    "q3 = Query(searchfilter=myquery3)\n",
    "r3 = q3.run()"
   ]
  },
  {
   "cell_type": "code",
   "execution_count": 15,
   "metadata": {
    "collapsed": false,
    "scrolled": true
   },
   "outputs": [
    {
     "data": {
      "text/plain": [
       "<ResultSet(set=1/1, index=0:16, count_in_set=16, total=16)>\n",
       "[ResultRow(mangaid=u'1-90849', plate=8481, plateifu=u'8481-12703', ifu_name=u'12703', elpetro_ba=0.973022, z=0.0661473, sersic_mass=49861900000.0),\n",
       " ResultRow(mangaid=u'1-633196', plate=8485, plateifu=u'8485-12703', ifu_name=u'12703', elpetro_ba=0.95488, z=0.0380864, sersic_mass=84212200000.0),\n",
       " ResultRow(mangaid=u'1-251764', plate=8335, plateifu=u'8335-12702', ifu_name=u'12702', elpetro_ba=0.956245, z=0.0188389, sersic_mass=1883260000.0),\n",
       " ResultRow(mangaid=u'1-285095', plate=8319, plateifu=u'8319-12701', ifu_name=u'12701', elpetro_ba=0.961789, z=0.0571118, sersic_mass=132829000000.0),\n",
       " ResultRow(mangaid=u'1-258425', plate=8261, plateifu=u'8261-12702', ifu_name=u'12702', elpetro_ba=0.989192, z=0.112247, sersic_mass=84189200000.0),\n",
       " ResultRow(mangaid=u'1-256301', plate=8258, plateifu=u'8258-9102', ifu_name=u'9102', elpetro_ba=0.969656, z=0.0961407, sersic_mass=7116800000000.0),\n",
       " ResultRow(mangaid=u'1-338090', plate=8131, plateifu=u'8131-3701', ifu_name=u'3701', elpetro_ba=0.744847, z=0.0806724, sersic_mass=1150580000000.0),\n",
       " ResultRow(mangaid=u'1-377378', plate=8132, plateifu=u'8132-6102', ifu_name=u'6102', elpetro_ba=0.674425, z=0.0265521, sersic_mass=513575000000.0),\n",
       " ResultRow(mangaid=u'1-338629', plate=8132, plateifu=u'8132-12703', ifu_name=u'12703', elpetro_ba=0.959828, z=0.116056, sersic_mass=157488000000.0),\n",
       " ResultRow(mangaid=u'1-402409', plate=8330, plateifu=u'8330-12705', ifu_name=u'12705', elpetro_ba=0.959511, z=0.117655, sersic_mass=148245000000.0),\n",
       " ResultRow(mangaid=u'1-260733', plate=8447, plateifu=u'8447-12701', ifu_name=u'12701', elpetro_ba=0.950636, z=0.0507247, sersic_mass=15064300000.0),\n",
       " ResultRow(mangaid=u'1-210881', plate=8604, plateifu=u'8604-12701', ifu_name=u'12701', elpetro_ba=0.980852, z=0.0350385, sersic_mass=113843000000.0),\n",
       " ResultRow(mangaid=u'1-211017', plate=8312, plateifu=u'8312-12703', ifu_name=u'12703', elpetro_ba=0.961728, z=0.0358501, sersic_mass=25590900000.0),\n",
       " ResultRow(mangaid=u'1-95112', plate=8588, plateifu=u'8588-12703', ifu_name=u'12703', elpetro_ba=0.965881, z=0.0327634, sersic_mass=26217600000.0),\n",
       " ResultRow(mangaid=u'12-84674', plate=7443, plateifu=u'7443-12702', ifu_name=u'12702', elpetro_ba=0.96167, z=0.0575241, sersic_mass=25869000000.0),\n",
       " ResultRow(mangaid=u'1-283711', plate=8317, plateifu=u'8317-1901', ifu_name=u'1901', elpetro_ba=0.60888, z=0.094444, sersic_mass=2579810000000.0)]"
      ]
     },
     "execution_count": 15,
     "metadata": {},
     "output_type": "execute_result"
    }
   ],
   "source": [
    "r3.results"
   ]
  },
  {
   "cell_type": "markdown",
   "metadata": {},
   "source": [
    "## Design Your Own Search\n",
    "\n",
    "OK, now it's your turn to try designing a search.\n",
    "\n",
    "**Exercise**: Write a search filter that will find galaxies with a redshift less than 0.02 that were observed with the 1901 IFU?"
   ]
  },
  {
   "cell_type": "code",
   "execution_count": 16,
   "metadata": {
    "collapsed": true
   },
   "outputs": [],
   "source": [
    "# Enter your search here"
   ]
  },
  {
   "cell_type": "markdown",
   "metadata": {},
   "source": [
    "## Finding the Available Parameters\n",
    "Now you might want to go out and try all of the interesting queries that you've been saving up, but you don't know what the parameters are called or what database table they are in. \n",
    "\n",
    "You can find all of the availabale parameters by:\n",
    "1. clicking on in the **Return Parameters** dropdown menu on the left side of the **[Marvin-web Search page](https://sas.sdss.org/marvin2/search/)**,\n",
    "2. reading the **[Marvin Docs page](https://api.sdss.org/doc/manga/marvin/refactor/query_params.html#marvin-query-parameters)**, or\n",
    "3. via **Marvin-tools** (see next two cells)"
   ]
  },
  {
   "cell_type": "code",
   "execution_count": 17,
   "metadata": {
    "collapsed": false
   },
   "outputs": [
    {
     "data": {
      "text/plain": [
       "[<ParameterGroup name=Metadata, n_parameters=7>,\n",
       " <ParameterGroup name=Spaxel Metadata, n_parameters=3>,\n",
       " <ParameterGroup name=Emission Lines, n_parameters=13>,\n",
       " <ParameterGroup name=Kinematics, n_parameters=6>,\n",
       " <ParameterGroup name=Spectral Indices, n_parameters=1>,\n",
       " <ParameterGroup name=NSA Catalog, n_parameters=11>]"
      ]
     },
     "execution_count": 17,
     "metadata": {},
     "output_type": "execute_result"
    }
   ],
   "source": [
    "# You might have to do an svn update to get this to work (otherwise try the next cell)\n",
    "q = Query()\n",
    "q.get_available_params()"
   ]
  },
  {
   "cell_type": "markdown",
   "metadata": {},
   "source": [
    "Go ahead and try to create some new searches on your own from the parameter list. Please feel free to also try out the some of the same search on the **[Marvin-web Search page](https://sas.sdss.org/marvin2/search/)**."
   ]
  },
  {
   "cell_type": "markdown",
   "metadata": {},
   "source": [
    "## Returning Bonus Parameters\n",
    "\n",
    "Often you want to run a query and see the value of parameters that you didn't explicitly search on. For instance, you want to find galaxies above a redshift of 0.1 and would like to know their RA and DECs.\n",
    "\n",
    "In Marvin-tools, this is as easy as specifying the **`returnparams`** option with either a string (for a single bonus parameter) or a list of strings (for multiple bonus parameters)."
   ]
  },
  {
   "cell_type": "code",
   "execution_count": 18,
   "metadata": {
    "collapsed": false,
    "scrolled": true
   },
   "outputs": [
    {
     "name": "stdout",
     "output_type": "stream",
     "text": [
      "Your parsed filter is: \n",
      "nsa.z>0.1\n"
     ]
    }
   ],
   "source": [
    "myquery5 = 'nsa.z > 0.1'\n",
    "bonusparams5 = ['cube.ra', 'cube.dec']\n",
    "# bonusparams5 = 'cube.ra'  # This works too\n",
    "\n",
    "q5 = Query(searchfilter=myquery5, returnparams=bonusparams5)\n",
    "r5 = q5.run()"
   ]
  },
  {
   "cell_type": "code",
   "execution_count": 19,
   "metadata": {
    "collapsed": false
   },
   "outputs": [
    {
     "data": {
      "text/plain": [
       "<ResultSet(set=1/1, index=0:110, count_in_set=110, total=110)>\n",
       "[ResultRow(mangaid=u'1-25937', plate=7991, plateifu=u'7991-12705', ifu_name=u'12705', ra=261.115608768, dec=56.2960102323, z=0.113153),\n",
       " ResultRow(mangaid=u'1-25911', plate=7991, plateifu=u'7991-9102', ifu_name=u'9102', ra=260.346989853, dec=55.876526099, z=0.139784),\n",
       " ResultRow(mangaid=u'1-22948', plate=7992, plateifu=u'7992-9102', ifu_name=u'9102', ra=254.542083999, dec=62.4156479613, z=0.119399),\n",
       " ResultRow(mangaid=u'1-93471', plate=8483, plateifu=u'8483-6104', ifu_name=u'6104', ra=247.694974246, dec=47.7947656349, z=0.127959),\n",
       " ResultRow(mangaid=u'1-93872', plate=8555, plateifu=u'8555-6103', ifu_name=u'6103', ra=247.097142285, dec=43.9576126147, z=0.139743),\n",
       " ResultRow(mangaid=u'1-93876', plate=8484, plateifu=u'8484-9101', ifu_name=u'9101', ra=246.942944115, dec=44.177521384, z=0.139404),\n",
       " ResultRow(mangaid=u'1-93876', plate=8555, plateifu=u'8555-3704', ifu_name=u'3704', ra=246.942944115, dec=44.177521384, z=0.139404),\n",
       " ResultRow(mangaid=u'1-134994', plate=8555, plateifu=u'8555-6102', ifu_name=u'6102', ra=246.881870865, dec=43.4062635412, z=0.129686),\n",
       " ResultRow(mangaid=u'1-134978', plate=8555, plateifu=u'8555-3702', ifu_name=u'3702', ra=246.42636598, dec=43.9317741891, z=0.133139),\n",
       " ResultRow(mangaid=u'1-134760', plate=8555, plateifu=u'8555-12701', ifu_name=u'12701', ra=245.362216361, dec=42.76129006, z=0.138175),\n",
       " ResultRow(mangaid=u'1-134884', plate=8555, plateifu=u'8555-12704', ifu_name=u'12704', ra=245.194377712, dec=43.1532077493, z=0.13407),\n",
       " ResultRow(mangaid=u'1-569042', plate=8484, plateifu=u'8484-12701', ifu_name=u'12701', ra=246.561043903, dec=46.3708377365, z=0.113262),\n",
       " ResultRow(mangaid=u'1-576269', plate=8481, plateifu=u'8481-6104', ifu_name=u'6104', ra=240.367914805, dec=53.9364085499, z=0.106607),\n",
       " ResultRow(mangaid=u'1-91550', plate=8481, plateifu=u'8481-3704', ifu_name=u'3704', ra=240.186697059, dec=53.7755312455, z=0.110132),\n",
       " ResultRow(mangaid=u'1-22942', plate=7992, plateifu=u'7992-12705', ifu_name=u'12705', ra=254.39542133, dec=62.8724834807, z=0.104958),\n",
       " ResultRow(mangaid=u'1-22301', plate=7992, plateifu=u'7992-6101', ifu_name=u'6101', ra=253.40555905, dec=63.0312699156, z=0.105153),\n",
       " ResultRow(mangaid=u'1-209049', plate=8486, plateifu=u'8486-3701', ifu_name=u'3701', ra=236.092836031, dec=47.8535814068, z=0.128998),\n",
       " ResultRow(mangaid=u'1-209607', plate=8486, plateifu=u'8486-3704', ifu_name=u'3704', ra=236.299300223, dec=47.0497223315, z=0.115634),\n",
       " ResultRow(mangaid=u'1-322096', plate=8552, plateifu=u'8552-6103', ifu_name=u'6103', ra=229.493083453, dec=44.0795834625, z=0.116315),\n",
       " ResultRow(mangaid=u'1-322113', plate=8552, plateifu=u'8552-9102', ifu_name=u'9102', ra=229.308914218, dec=44.0180313812, z=0.12226),\n",
       " ResultRow(mangaid=u'1-320677', plate=8326, plateifu=u'8326-9101', ifu_name=u'9101', ra=213.809361648, dec=47.7499574049, z=0.130442),\n",
       " ResultRow(mangaid=u'1-266106', plate=8329, plateifu=u'8329-12705', ifu_name=u'12705', ra=214.547722959, dec=44.4742758113, z=0.141613),\n",
       " ResultRow(mangaid=u'1-266074', plate=8329, plateifu=u'8329-3703', ifu_name=u'3703', ra=214.060210955, dec=43.9229334765, z=0.13772),\n",
       " ResultRow(mangaid=u'1-286804', plate=8329, plateifu=u'8329-6102', ifu_name=u'6102', ra=211.904865423, dec=44.4822692358, z=0.142887),\n",
       " ResultRow(mangaid=u'1-286795', plate=8329, plateifu=u'8329-9101', ifu_name=u'9101', ra=211.25307421, dec=44.7524445135, z=0.108075),\n",
       " ResultRow(mangaid=u'1-251269', plate=8332, plateifu=u'8332-12704', ifu_name=u'12704', ra=209.163574437, dec=43.585640819, z=0.103091),\n",
       " ResultRow(mangaid=u'1-251278', plate=8332, plateifu=u'8332-6102', ifu_name=u'6102', ra=209.234177154, dec=43.3134779654, z=0.149511),\n",
       " ResultRow(mangaid=u'1-320324', plate=8325, plateifu=u'8325-12704', ifu_name=u'12704', ra=211.991755192, dec=47.9064008103, z=0.144287),\n",
       " ResultRow(mangaid=u'1-284293', plate=8318, plateifu=u'8318-6102', ifu_name=u'6102', ra=197.239319048, dec=45.9054469821, z=0.12908),\n",
       " ResultRow(mangaid=u'1-284031', plate=8465, plateifu=u'8465-6101', ifu_name=u'6101', ra=195.522963799, dec=47.4969532797, z=0.143485),\n",
       " ResultRow(mangaid=u'1-259368', plate=8317, plateifu=u'8317-6103', ifu_name=u'6103', ra=193.270198644, dec=44.9603482345, z=0.105905),\n",
       " ResultRow(mangaid=u'1-282114', plate=8263, plateifu=u'8263-3702', ifu_name=u'3702', ra=185.037670436, dec=47.1335214433, z=0.112681),\n",
       " ResultRow(mangaid=u'1-575845', plate=8261, plateifu=u'8261-3702', ifu_name=u'3702', ra=181.827576407, dec=46.7275255533, z=0.101657),\n",
       " ResultRow(mangaid=u'1-258425', plate=8261, plateifu=u'8261-12702', ifu_name=u'12702', ra=182.983754904, dec=45.7899295636, z=0.112247),\n",
       " ResultRow(mangaid=u'1-548074', plate=8134, plateifu=u'8134-9101', ifu_name=u'9101', ra=114.394019718, dec=47.4639579264, z=0.127591),\n",
       " ResultRow(mangaid=u'1-378168', plate=8134, plateifu=u'8134-3702', ifu_name=u'3702', ra=114.309703748, dec=46.9375039058, z=0.147765),\n",
       " ResultRow(mangaid=u'1-378237', plate=8134, plateifu=u'8134-3701', ifu_name=u'3701', ra=113.326608857, dec=46.3481928774, z=0.127436),\n",
       " ResultRow(mangaid=u'1-567948', plate=8133, plateifu=u'8133-6103', ifu_name=u'6103', ra=113.284972917, dec=44.5509699475, z=0.131113),\n",
       " ResultRow(mangaid=u'1-338922', plate=8133, plateifu=u'8133-12704', ifu_name=u'12704', ra=114.775746822, dec=44.4027654465, z=0.134471),\n",
       " ResultRow(mangaid=u'1-574402', plate=8137, plateifu=u'8137-3702', ifu_name=u'3702', ra=115.368719754, dec=44.4087940076, z=0.131997),\n",
       " ResultRow(mangaid=u'1-377841', plate=8133, plateifu=u'8133-12705', ifu_name=u'12705', ra=113.747217977, dec=43.4725190638, z=0.130943),\n",
       " ResultRow(mangaid=u'1-338822', plate=8137, plateifu=u'8137-9101', ifu_name=u'9101', ra=115.632320465, dec=43.935522553, z=0.118865),\n",
       " ResultRow(mangaid=u'1-43721', plate=8137, plateifu=u'8137-6104', ifu_name=u'6104', ra=116.967569128, dec=43.3835000413, z=0.111394),\n",
       " ResultRow(mangaid=u'1-156158', plate=8439, plateifu=u'8439-3703', ifu_name=u'3703', ra=144.475988638, dec=50.9890991486, z=0.138619),\n",
       " ResultRow(mangaid=u'1-279120', plate=8466, plateifu=u'8466-3703', ifu_name=u'3703', ra=169.539016286, dec=45.6186388631, z=0.111133),\n",
       " ResultRow(mangaid=u'1-279123', plate=8466, plateifu=u'8466-6104', ifu_name=u'6104', ra=169.669552898, dec=45.5527255595, z=0.112604),\n",
       " ResultRow(mangaid=u'1-256832', plate=8466, plateifu=u'8466-3704', ifu_name=u'3704', ra=169.513447059, dec=45.1130288476, z=0.107238),\n",
       " ResultRow(mangaid=u'1-278075', plate=8257, plateifu=u'8257-6104', ifu_name=u'6104', ra=166.106858433, dec=45.7817118443, z=0.142857),\n",
       " ResultRow(mangaid=u'1-277992', plate=8466, plateifu=u'8466-6101', ifu_name=u'6101', ra=168.094030871, dec=44.8160370649, z=0.122333),\n",
       " ResultRow(mangaid=u'1-148086', plate=8452, plateifu=u'8452-3703', ifu_name=u'3703', ra=156.699612286, dec=48.1290396768, z=0.133195),\n",
       " ResultRow(mangaid=u'1-276590', plate=8254, plateifu=u'8254-6103', ifu_name=u'6103', ra=162.989174052, dec=44.7601317834, z=0.140498),\n",
       " ResultRow(mangaid=u'1-254642', plate=8253, plateifu=u'8253-6103', ifu_name=u'6103', ra=156.988511384, dec=43.3182682084, z=0.105768),\n",
       " ResultRow(mangaid=u'1-48410', plate=8244, plateifu=u'8244-9102', ifu_name=u'9102', ra=132.977743439, dec=52.9008813541, z=0.114568),\n",
       " ResultRow(mangaid=u'1-47705', plate=8244, plateifu=u'8244-6103', ifu_name=u'6103', ra=130.996444722, dec=51.0902636663, z=0.126344),\n",
       " ResultRow(mangaid=u'1-73638', plate=8244, plateifu=u'8244-12704', ifu_name=u'12704', ra=133.035323408, dec=51.3127390765, z=0.115137),\n",
       " ResultRow(mangaid=u'1-73667', plate=8244, plateifu=u'8244-12701', ifu_name=u'12701', ra=133.06809411, dec=50.627237501, z=0.112362),\n",
       " ResultRow(mangaid=u'1-73584', plate=8244, plateifu=u'8244-3704', ifu_name=u'3704', ra=132.627858985, dec=50.2789266122, z=0.12215),\n",
       " ResultRow(mangaid=u'1-156039', plate=8439, plateifu=u'8439-3704', ifu_name=u'3704', ra=143.940659163, dec=49.0232113878, z=0.114699),\n",
       " ResultRow(mangaid=u'1-44549', plate=8141, plateifu=u'8141-6104', ifu_name=u'6104', ra=120.440525845, dec=44.1100506919, z=0.131696),\n",
       " ResultRow(mangaid=u'1-72322', plate=8143, plateifu=u'8143-6101', ifu_name=u'6101', ra=121.014200537, dec=40.8026129505, z=0.126168),\n",
       " ResultRow(mangaid=u'1-137548', plate=8440, plateifu=u'8440-6101', ifu_name=u'6101', ra=134.674576789, dec=41.2364198815, z=0.147354),\n",
       " ResultRow(mangaid=u'1-217041', plate=8247, plateifu=u'8247-9102', ifu_name=u'9102', ra=137.441277003, dec=41.9558696113, z=0.140035),\n",
       " ResultRow(mangaid=u'1-216984', plate=8440, plateifu=u'8440-12702', ifu_name=u'12702', ra=135.065441378, dec=40.9179727701, z=0.147426),\n",
       " ResultRow(mangaid=u'1-113476', plate=8618, plateifu=u'8618-12705', ifu_name=u'12705', ra=317.568825378, dec=10.4088108392, z=0.118158),\n",
       " ResultRow(mangaid=u'1-113675', plate=8618, plateifu=u'8618-3702', ifu_name=u'3702', ra=318.775640877, dec=10.0984558649, z=0.129881),\n",
       " ResultRow(mangaid=u'1-109308', plate=8082, plateifu=u'8082-12704', ifu_name=u'12704', ra=49.9495621925, dec=-0.22114540619, z=0.131681),\n",
       " ResultRow(mangaid=u'1-547999', plate=8132, plateifu=u'8132-12701', ifu_name=u'12701', ra=110.517196768, dec=42.4213792365, z=0.135844),\n",
       " ResultRow(mangaid=u'1-338117', plate=8131, plateifu=u'8131-12705', ifu_name=u'12705', ra=112.559910339, dec=39.533459057, z=0.141544),\n",
       " ResultRow(mangaid=u'1-338279', plate=8131, plateifu=u'8131-1902', ifu_name=u'1902', ra=112.603684034, dec=39.8968449502, z=0.117849),\n",
       " ResultRow(mangaid=u'1-338044', plate=8131, plateifu=u'8131-3704', ifu_name=u'3704', ra=111.975292022, dec=40.0919903613, z=0.120859),\n",
       " ResultRow(mangaid=u'1-548024', plate=8132, plateifu=u'8132-6101', ifu_name=u'6101', ra=111.733682055, dec=41.0266910782, z=0.129403),\n",
       " ResultRow(mangaid=u'1-338283', plate=8131, plateifu=u'8131-6103', ifu_name=u'6103', ra=112.670687362, dec=40.1917896363, z=0.120054),\n",
       " ResultRow(mangaid=u'1-43214', plate=8135, plateifu=u'8135-1902', ifu_name=u'1902', ra=114.096383278, dec=39.4382798053, z=0.117997),\n",
       " ResultRow(mangaid=u'1-338359', plate=8131, plateifu=u'8131-6104', ifu_name=u'6104', ra=112.416704157, dec=41.072316326, z=0.101025),\n",
       " ResultRow(mangaid=u'1-377439', plate=8131, plateifu=u'8131-3703', ifu_name=u'3703', ra=112.169426691, dec=41.4730240551, z=0.119084),\n",
       " ResultRow(mangaid=u'1-377617', plate=8132, plateifu=u'8132-1901', ifu_name=u'1901', ra=110.865858864, dec=43.0516356107, z=0.10725),\n",
       " ResultRow(mangaid=u'1-548001', plate=8132, plateifu=u'8132-6103', ifu_name=u'6103', ra=111.037340537, dec=42.9193141439, z=0.122465),\n",
       " ResultRow(mangaid=u'1-377471', plate=8132, plateifu=u'8132-3701', ifu_name=u'3701', ra=112.644838061, dec=42.3290588306, z=0.119678),\n",
       " ResultRow(mangaid=u'1-338629', plate=8132, plateifu=u'8132-12703', ifu_name=u'12703', ra=113.266875521, dec=42.4724616081, z=0.116056),\n",
       " ResultRow(mangaid=u'1-487379', plate=8448, plateifu=u'8448-3703', ifu_name=u'3703', ra=167.089811867, dec=22.6614709807, z=0.138746),\n",
       " ResultRow(mangaid=u'1-255890', plate=8254, plateifu=u'8254-6101', ifu_name=u'6101', ra=163.249900532, dec=43.0486136514, z=0.147919),\n",
       " ResultRow(mangaid=u'1-558912', plate=8451, plateifu=u'8451-12701', ifu_name=u'12701', ra=166.129407835, dec=42.6245544187, z=0.12611),\n",
       " ResultRow(mangaid=u'1-558912', plate=8256, plateifu=u'8256-12704', ifu_name=u'12704', ra=166.129407835, dec=42.6245544187, z=0.12611),\n",
       " ResultRow(mangaid=u'1-558912', plate=8274, plateifu=u'8274-12704', ifu_name=u'12704', ra=166.129407835, dec=42.6245544187, z=0.12611),\n",
       " ResultRow(mangaid=u'1-414400', plate=8554, plateifu=u'8554-6102', ifu_name=u'6102', ra=182.784465836, dec=35.3330069871, z=0.136377),\n",
       " ResultRow(mangaid=u'1-419288', plate=8554, plateifu=u'8554-6103', ifu_name=u'6103', ra=183.997377433, dec=35.7173746013, z=0.133345),\n",
       " ResultRow(mangaid=u'1-419607', plate=8554, plateifu=u'8554-9102', ifu_name=u'9102', ra=183.789114229, dec=36.3366201557, z=0.148181),\n",
       " ResultRow(mangaid=u'1-281234', plate=8259, plateifu=u'8259-12705', ifu_name=u'12705', ra=180.172706776, dec=43.3546289934, z=0.112711),\n",
       " ResultRow(mangaid=u'1-282600', plate=8464, plateifu=u'8464-9101', ifu_name=u'9101', ra=186.67567367, dec=43.7833156939, z=0.11154),\n",
       " ResultRow(mangaid=u'1-258599', plate=8464, plateifu=u'8464-6101', ifu_name=u'6101', ra=186.180996627, dec=44.4107711556, z=0.125582),\n",
       " ResultRow(mangaid=u'1-402409', plate=8330, plateifu=u'8330-12705', ifu_name=u'12705', ra=205.386024339, dec=38.7879976571, z=0.117655),\n",
       " ResultRow(mangaid=u'1-405213', plate=8447, plateifu=u'8447-3702', ifu_name=u'3702', ra=207.390012752, dec=38.7144657524, z=0.108592),\n",
       " ResultRow(mangaid=u'1-260377', plate=8447, plateifu=u'8447-6102', ifu_name=u'6102', ra=207.569449754, dec=39.6364270051, z=0.122408),\n",
       " ResultRow(mangaid=u'1-260743', plate=8447, plateifu=u'8447-6104', ifu_name=u'6104', ra=208.392613685, dec=38.9965989403, z=0.146998),\n",
       " ResultRow(mangaid=u'1-177796', plate=7962, plateifu=u'7962-3702', ifu_name=u'3702', ra=259.063747798, dec=28.0140058716, z=0.107199),\n",
       " ResultRow(mangaid=u'1-178442', plate=7962, plateifu=u'7962-6101', ifu_name=u'6101', ra=260.464506436, dec=27.264680666, z=0.104525),\n",
       " ResultRow(mangaid=u'1-547210', plate=7957, plateifu=u'7957-12703', ifu_name=u'12703', ra=258.190223742, dec=36.2788557572, z=0.11708),\n",
       " ResultRow(mangaid=u'1-136292', plate=8606, plateifu=u'8606-6102', ifu_name=u'6102', ra=255.350049437, dec=37.3828022848, z=0.121731),\n",
       " ResultRow(mangaid=u'1-564477', plate=8606, plateifu=u'8606-12703', ifu_name=u'12703', ra=253.887902479, dec=38.0648443937, z=0.116163),\n",
       " ResultRow(mangaid=u'1-210700', plate=8588, plateifu=u'8588-3701', ifu_name=u'3701', ra=248.140561423, dec=39.1310206842, z=0.130272),\n",
       " ResultRow(mangaid=u'1-210700', plate=8603, plateifu=u'8603-12701', ifu_name=u'12701', ra=248.140561423, dec=39.1310206842, z=0.130272),\n",
       " ResultRow(mangaid=u'1-569114', plate=8601, plateifu=u'8601-12704', ifu_name=u'12704', ra=249.079028876, dec=40.4226964568, z=0.102694),\n",
       " ResultRow(mangaid=u'1-546894', plate=8606, plateifu=u'8606-12704', ifu_name=u'12704', ra=255.979555141, dec=37.3248749067, z=0.122719),\n",
       " ResultRow(mangaid=u'12-84670', plate=7443, plateifu=u'7443-3702', ifu_name=u'3702', ra=230.598339798, dec=43.3677764021, z=0.110451),\n",
       " ResultRow(mangaid=u'1-377720', plate=8133, plateifu=u'8133-9102', ifu_name=u'9102', ra=112.721756162, dec=43.5007438516, z=0.143514),\n",
       " ResultRow(mangaid=u'1-113468', plate=7815, plateifu=u'7815-3701', ifu_name=u'3701', ra=317.918280237, dec=9.34565198917, z=0.136342),\n",
       " ResultRow(mangaid=u'1-113668', plate=7815, plateifu=u'7815-6102', ifu_name=u'6102', ra=318.827736002, dec=10.4968107833, z=0.129233),\n",
       " ResultRow(mangaid=u'1-114973', plate=7977, plateifu=u'7977-12702', ifu_name=u'12702', ra=332.238573881, dec=11.8776065621, z=0.12046),\n",
       " ResultRow(mangaid=u'1-113521', plate=7815, plateifu=u'7815-6103', ifu_name=u'6103', ra=317.388736588, dec=11.5029226993, z=0.135043),\n",
       " ResultRow(mangaid=u'1-178482', plate=7962, plateifu=u'7962-9101', ifu_name=u'9101', ra=259.168654353, dec=27.9765101547, z=0.10547)]"
      ]
     },
     "execution_count": 19,
     "metadata": {},
     "output_type": "execute_result"
    }
   ],
   "source": [
    "r5.results"
   ]
  },
  {
   "cell_type": "markdown",
   "metadata": {},
   "source": [
    "Next time, we'll take a closer look at the **`Results`** class and its built in MaNGA convenience functions."
   ]
  },
  {
   "cell_type": "markdown",
   "metadata": {},
   "source": [
    "## Useful Resources\n",
    "\n",
    "Check out these pages on the Marvin Docs site for more **`Query`** tips and tricks.\n",
    "\n",
    "- **[Query](https://api.sdss.org/doc/manga/marvin/refactor/query.html)**\n",
    "- **[Example Queries](https://api.sdss.org/doc/manga/marvin/refactor/tutorials/query-examples.html)**\n",
    "- **[Results](https://api.sdss.org/doc/manga/marvin/refactor/results.htmlpages)** \n",
    "- **[Boolean Search Tutorial](https://api.sdss.org/doc/manga/marvin/refactor/tutorials/boolean-search-tutorial.html)**"
   ]
  },
  {
   "cell_type": "code",
   "execution_count": null,
   "metadata": {
    "collapsed": true
   },
   "outputs": [],
   "source": []
  }
 ],
 "metadata": {
  "anaconda-cloud": {},
  "kernelspec": {
   "display_name": "Python [conda root]",
   "language": "python",
   "name": "conda-root-py"
  },
  "language_info": {
   "codemirror_mode": {
    "name": "ipython",
    "version": 2
   },
   "file_extension": ".py",
   "mimetype": "text/x-python",
   "name": "python",
   "nbconvert_exporter": "python",
   "pygments_lexer": "ipython2",
   "version": "2.7.12"
  }
 },
 "nbformat": 4,
 "nbformat_minor": 0
}
