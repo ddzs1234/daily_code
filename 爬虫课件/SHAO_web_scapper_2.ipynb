{
 "cells": [
  {
   "cell_type": "markdown",
   "metadata": {
    "slideshow": {
     "slide_type": "slide"
    }
   },
   "source": [
    "## html基础知识\n",
    "1. Html网页由一系列html关键字\n",
    "2. 一个简单的html页面是什么样子\n",
    "  http://dl.manmanqiusuo.com/test.html"
   ]
  },
  {
   "cell_type": "markdown",
   "metadata": {
    "slideshow": {
     "slide_type": "slide"
    }
   },
   "source": [
    " Html 常用元素介绍：\n"
   ]
  },
  {
   "cell_type": "code",
   "execution_count": null,
   "metadata": {
    "slideshow": {
     "slide_type": "fragment"
    }
   },
   "outputs": [],
   "source": [
    "<body>\n",
    "<p>This is my first paragraph.</p>\n",
    "</body>"
   ]
  },
  {
   "cell_type": "code",
   "execution_count": null,
   "metadata": {
    "slideshow": {
     "slide_type": "fragment"
    }
   },
   "outputs": [],
   "source": [
    "<p>This is my first paragraph.</p>"
   ]
  },
  {
   "cell_type": "markdown",
   "metadata": {
    "slideshow": {
     "slide_type": "fragment"
    }
   },
   "source": [
    "<a href=\"default.html\" xxx>"
   ]
  },
  {
   "cell_type": "markdown",
   "metadata": {
    "slideshow": {
     "slide_type": "fragment"
    }
   },
   "source": [
    "<table> 表格元素\n",
    "<table border=\"1\">\n",
    "<tr>\n",
    "<td>row 1, cell 1</td>\n",
    "<td>row 1, cell 2</td>\n",
    "</tr>\n",
    "<tr>\n",
    "<td>row 2, cell 1</td>\n",
    "<td>row 2, cell 2</td>\n",
    "</tr>\n",
    "</table>"
   ]
  },
  {
   "cell_type": "code",
   "execution_count": null,
   "metadata": {
    "slideshow": {
     "slide_type": "slide"
    }
   },
   "outputs": [],
   "source": [
    "Css概述:\n",
    "通常定义在head中，描述了页面中的每个元素的样式（包括，字体大小，段落位置，颜色等等)\n",
    "在某些时候用css来定位元素非常方便"
   ]
  },
  {
   "cell_type": "markdown",
   "metadata": {
    "slideshow": {
     "slide_type": "slide"
    }
   },
   "source": [
    "实例页面分析\n",
    "http://www.physics.purdue.edu/astro/MOJAVE/allsources.html"
   ]
  },
  {
   "cell_type": "markdown",
   "metadata": {
    "slideshow": {
     "slide_type": "slide"
    }
   },
   "source": [
    "Xpath是什么？"
   ]
  },
  {
   "cell_type": "markdown",
   "metadata": {
    "slideshow": {
     "slide_type": "slide"
    }
   },
   "source": [
    "1. 为什么需要Xpath?\n",
    "Xpath 用来在html中定位一个元素"
   ]
  },
  {
   "cell_type": "markdown",
   "metadata": {
    "slideshow": {
     "slide_type": "slide"
    }
   },
   "source": [
    "1.  Xpath 长什么样\n",
    "/html/body/table/tbody/tr/td[2]/table/tbody/tr[1]/td[1]/center[1]/table/tbody/tr[1]/td[1]\n"
   ]
  },
  {
   "cell_type": "code",
   "execution_count": null,
   "metadata": {
    "slideshow": {
     "slide_type": "slide"
    }
   },
   "outputs": [],
   "source": [
    "1. 怎样获取元素的xPath？\n",
    "从chrome 中选择元素，右键”Copy Xpath”"
   ]
  },
  {
   "cell_type": "markdown",
   "metadata": {
    "slideshow": {
     "slide_type": "slide"
    }
   },
   "source": [
    "| 表达式     | 描述\n",
    "| ------ | -------- |\n",
    "| /         |  从根节点选取。 \n",
    "| nodename  |  选取此节点的所有子节点。 \n",
    "| //        |  从当前节点 选择 所有匹配文档中的节点 \n",
    "| .         |  选取当前节点。 \n",
    "| ..        | 选取当前节点的父节点。 \n",
    "| @         |  选取属性。 "
   ]
  },
  {
   "cell_type": "markdown",
   "metadata": {
    "slideshow": {
     "slide_type": "slide"
    }
   },
   "source": [
    "| 路径表达式    |  结果 |\n",
    "| ------ | -------- |\n",
    "| /bookstore | 选取根元素 bookstore。注释：假如路径起始于正斜杠( / )，则此路径始终代表到某元素的绝对路径！ \n",
    "| bookstore  | 选取 bookstore 元素的所有子节点。默认从根节点选取 \n",
    "| bookstore/book | 选取属于 bookstore 的子元素的所有 book 元素。 \n",
    "| //book  | 选取所有 book 子元素，而不管它们在文档中的位置。 \n",
    "| //book/./title | 选取所有 book 子元素，从当前节点查找title节点 \n",
    "| //price/.. | 选取所有 book 子元素，从当前节点查找父节点 \n",
    "| bookstore//book  | 选择属于 bookstore 元素的后代的所有 book 元素，而不管它们位于 bookstore 之下的什么位置。 \n",
    "| //@lang | 选取名为 lang 的所有属性。 "
   ]
  }
 ],
 "metadata": {
  "celltoolbar": "Slideshow",
  "kernelspec": {
   "display_name": "Python 2",
   "language": "python",
   "name": "python2"
  },
  "language_info": {
   "codemirror_mode": {
    "name": "ipython",
    "version": 2
   },
   "file_extension": ".py",
   "mimetype": "text/x-python",
   "name": "python",
   "nbconvert_exporter": "python",
   "pygments_lexer": "ipython2",
   "version": "2.7.14"
  }
 },
 "nbformat": 4,
 "nbformat_minor": 2
}
